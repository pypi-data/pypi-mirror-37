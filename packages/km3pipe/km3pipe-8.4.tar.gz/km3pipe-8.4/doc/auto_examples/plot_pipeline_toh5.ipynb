{
  "cells": [
    {
      "cell_type": "code",
      "execution_count": null,
      "metadata": {
        "collapsed": false
      },
      "outputs": [],
      "source": [
        "%matplotlib inline"
      ]
    },
    {
      "cell_type": "markdown",
      "metadata": {},
      "source": [
        "\n# ToHDF5 Pipeline example\n\n\n\n"
      ]
    },
    {
      "cell_type": "code",
      "execution_count": null,
      "metadata": {
        "collapsed": false
      },
      "outputs": [],
      "source": [
        "# Authors: Moritz Lotze <mlotze@km3net.de>\n# License: BSD-3\n# Date: 2018-07-12\n# Status: Under construction...\n\nfrom __future__ import absolute_import, print_function, division\n\nimport tables as tb\n\nfrom km3pipe import Pipeline\nfrom km3pipe.io import EvtPump, HDF5Sink\n\nfrom km3modules.common import StatusBar"
      ]
    },
    {
      "cell_type": "markdown",
      "metadata": {},
      "source": [
        "Preparation\n-----------\nLet's define the inputs / outputs first -- those would be coming from a CLI\nparser in practice.\n\n"
      ]
    },
    {
      "cell_type": "code",
      "execution_count": null,
      "metadata": {
        "collapsed": false
      },
      "outputs": [],
      "source": [
        "N_EVENTS = 200000\nIN_FNAME = 'data/numu_cc.evt'\nOUT_FNAME = 'data/numu_cc.h5'"
      ]
    },
    {
      "cell_type": "markdown",
      "metadata": {},
      "source": [
        "Also, in this case we don't really want to dump the data onto disk, so we\ncreate an in-memory-ony file, and pass it as the ``h5file`` arg to the\nhdf5sink. to actually write out a file, just specify an outfile name\n(commented out here).\n\n"
      ]
    },
    {
      "cell_type": "code",
      "execution_count": null,
      "metadata": {
        "collapsed": false
      },
      "outputs": [],
      "source": [
        "OUTFILE = tb.open_file(\n    # create the file in memory only\n    OUT_FNAME,\n    'w',\n    driver=\"H5FD_CORE\",\n    driver_core_backing_store=0,\n)"
      ]
    },
    {
      "cell_type": "markdown",
      "metadata": {},
      "source": [
        "Setting up the pipeline\n-----------------------\n\n"
      ]
    },
    {
      "cell_type": "code",
      "execution_count": null,
      "metadata": {
        "collapsed": false
      },
      "outputs": [],
      "source": [
        "pipe = Pipeline(timeit=True)\npipe.attach(EvtPump, filename=IN_FNAME)\npipe.attach(StatusBar, every=25)\npipe.attach(\n    HDF5Sink,\n    # filename=OUT_FNAME,\n    h5file=OUTFILE,\n)"
      ]
    },
    {
      "cell_type": "markdown",
      "metadata": {},
      "source": [
        "Draining the pipeline\n---------------------\n\n"
      ]
    },
    {
      "cell_type": "code",
      "execution_count": null,
      "metadata": {
        "collapsed": false
      },
      "outputs": [],
      "source": [
        "pipe.drain(N_EVENTS)"
      ]
    }
  ],
  "metadata": {
    "kernelspec": {
      "display_name": "Python 3",
      "language": "python",
      "name": "python3"
    },
    "language_info": {
      "codemirror_mode": {
        "name": "ipython",
        "version": 3
      },
      "file_extension": ".py",
      "mimetype": "text/x-python",
      "name": "python",
      "nbconvert_exporter": "python",
      "pygments_lexer": "ipython3",
      "version": "3.6.5"
    }
  },
  "nbformat": 4,
  "nbformat_minor": 0
}