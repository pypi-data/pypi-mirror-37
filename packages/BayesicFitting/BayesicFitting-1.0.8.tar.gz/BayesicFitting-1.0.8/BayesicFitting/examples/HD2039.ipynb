{
 "cells": [
  {
   "cell_type": "markdown",
   "metadata": {},
   "source": [
    "## HD 2039\n",
    "\n",
    "Radial velocity data for HD2039 were obtained from Tinney et al.(2003).\n",
    "\n",
    "\n",
    "Author: Do Kester\n"
   ]
  },
  {
   "cell_type": "markdown",
   "metadata": {},
   "source": [
    "We need to import some classes"
   ]
  },
  {
   "cell_type": "code",
   "execution_count": 1,
   "metadata": {},
   "outputs": [],
   "source": [
    "import numpy as numpy\n",
    "import math\n",
    "\n",
    "from astropy.io import ascii\n",
    "from BayesicFitting import RadialVelocityModel\n",
    "from BayesicFitting import PolynomialModel\n",
    "from BayesicFitting import CircularUniformPrior\n",
    "\n",
    "from BayesicFitting import NestedSampler\n",
    "from BayesicFitting import formatter as fmt\n",
    "from BayesicFitting import plotFit\n",
    "from BayesicFitting import Tools\n",
    "import matplotlib.pyplot as plt\n",
    "\n"
   ]
  },
  {
   "cell_type": "code",
   "execution_count": 2,
   "metadata": {},
   "outputs": [],
   "source": [
    "#%matplotlib osx"
   ]
  },
  {
   "cell_type": "markdown",
   "metadata": {},
   "source": [
    "Read the data"
   ]
  },
  {
   "cell_type": "code",
   "execution_count": 3,
   "metadata": {},
   "outputs": [],
   "source": [
    "tbl = ascii.read( \"data/HD2039.dat\" )\n",
    "#print( tbl )\n",
    "jd = tbl['JDa'].data\n",
    "rv = tbl['RVa'].data\n",
    "er = tbl['Uncertainty'].data\n"
   ]
  },
  {
   "cell_type": "markdown",
   "metadata": {},
   "source": [
    "We define a radial velocity model. It has 5 parameters: amplitude, period, eccentricity, longitude of periastron, phase since periastron.\n",
    "The phase parameters both get a CircularUniformPrior.\n",
    "We need to add a constant for the systemic velocity of the system."
   ]
  },
  {
   "cell_type": "code",
   "execution_count": 4,
   "metadata": {},
   "outputs": [
    {
     "name": "stdout",
     "output_type": "stream",
     "text": [
      "Polynomial: f( x:p ) = p_0 +\n",
      "RadialVelocity \n",
      "6 1\n",
      "[0.0, 0.0, 1000.0, 0.0, 0.0, 0.0]\n"
     ]
    }
   ],
   "source": [
    "twopi = 2 * math.pi\n",
    "rvm = RadialVelocityModel( )\n",
    "lolim = [0.0, 1000.0, 0.0]\n",
    "hilim = [200.0, 1500.0, 0.99]\n",
    "rvm.setLimits( lowLimits=lolim, highLimits=hilim )\n",
    "rvm.setPrior( 3, prior=CircularUniformPrior(), limits=[0,twopi] )\n",
    "rvm.setPrior( 4, prior=CircularUniformPrior(), limits=[0,twopi] )\n",
    "#Tools.printclass( rvm )\n",
    "pm = PolynomialModel( 0 )\n",
    "pm.setLimits( lowLimits=[0], highLimits=[200] )\n",
    "#sm *= hm\n",
    "mdl = pm + rvm\n",
    "print( mdl )\n",
    "print( mdl.npchain, mdl.npbase )\n",
    "print( [mdl.getPrior(k).lowLimit for k in range( mdl.npchain )])\n",
    "\n"
   ]
  },
  {
   "cell_type": "code",
   "execution_count": 5,
   "metadata": {},
   "outputs": [
    {
     "name": "stdout",
     "output_type": "stream",
     "text": [
      "Fit all parameters of\n",
      "  Polynomial: f( x:p ) = p_0 +\n",
      "  RadialVelocity \n",
      "Using a Gauss error distribution with with unknown scale\n",
      "Moving the walkers with   GalileanEngine\n",
      "Iteration   logZ        H     LowL     npar    parameters\n",
      "       0 -3571791828.8      4.6 -3571791824.2      7  [   92.195   74.282 1094.188    0.806    1.665 ...]\n"
     ]
    },
    {
     "name": "stderr",
     "output_type": "stream",
     "text": [
      "/opt/local/Library/Frameworks/Python.framework/Versions/3.5/lib/python3.5/site-packages/BayesicFitting-1.0.4-py3.5.egg/BayesicFitting/source/FixedModel.py:362: UserWarning: RadialVelocity has no partials defined; using numeric partials.\n"
     ]
    },
    {
     "name": "stdout",
     "output_type": "stream",
     "text": [
      "     100 -21426.5      5.6 -21420.9      7  [  143.393   57.335 1433.680    0.824    6.263 ...]\n",
      "     200   -733.7      6.6   -727.1      7  [  134.359  188.678 1149.172    0.736    0.953 ...]\n",
      "     300   -272.6      7.1   -265.1      7  [  158.268   62.191 1031.888    0.825    1.070 ...]\n",
      "     400   -212.6      6.5   -205.4      7  [   79.840   28.238 1145.320    0.303    1.837 ...]\n",
      "     500   -197.2      6.1   -190.2      7  [   20.156   24.042 1396.246    0.184    5.547 ...]\n",
      "     600   -192.5      6.2   -185.2      7  [   34.929   16.983 1214.341    0.122    2.751 ...]\n",
      "     700   -189.3      6.7   -181.5      7  [   11.038    5.637 1098.981    0.589    0.303 ...]\n",
      "     800   -186.1      7.8   -176.8      7  [   14.182   62.035 1388.509    0.150    4.292 ...]\n",
      "     900   -182.8      8.9   -172.6      7  [    9.086   63.463 1382.157    0.166    4.201 ...]\n",
      "    1000   -178.8     10.1   -167.6      7  [   40.582   89.469 1239.316    0.352    4.577 ...]\n",
      "    1100   -174.4     11.4   -162.0      7  [   79.669   81.532 1076.567    0.534    3.196 ...]\n",
      "    1200   -171.5     11.6   -158.7      7  [   22.102   68.700 1298.005    0.699    4.292 ...]\n",
      "    1300   -169.6     12.2   -156.1      7  [   37.010   75.202 1258.715    0.361    4.127 ...]\n",
      "    1400   -167.7     13.1   -153.1      7  [   28.153   69.077 1196.139    0.455    3.872 ...]\n",
      "    1500   -166.0     14.0   -150.6      7  [   88.307   92.162 1199.027    0.484    3.977 ...]\n",
      "    1600   -164.7     14.6   -148.5      7  [   66.584   72.071 1187.004    0.561    3.854 ...]\n",
      "    1700   -163.3     15.7   -145.9      7  [   79.074   85.535 1195.752    0.552    3.893 ...]\n",
      "    1800   -161.8     16.7   -143.5      7  [   83.042   87.956 1204.992    0.513    3.937 ...]\n",
      "    1900   -160.5     17.5   -141.6      7  [   80.276   90.872 1198.624    0.522    3.934 ...]\n",
      "    2000   -159.8     17.9   -140.4      7  [   77.135   81.660 1250.774    0.588    4.224 ...]\n",
      "    2100   -159.4     18.1   -139.7      7  [   75.205   81.302 1234.247    0.563    4.064 ...]\n",
      "    2200   -159.2     18.2   -139.2      7  [   75.171   81.333 1262.971    0.584    4.224 ...]\n",
      "    2300   -159.1     18.3   -138.8      7  [   78.798   81.104 1225.098    0.589    3.952 ...]\n",
      "    2400   -159.1     18.4   -138.5      7  [   78.742   82.480 1222.022    0.588    3.923 ...]\n",
      "    2500   -159.0     18.4   -138.3      7  [   75.284   82.103 1236.660    0.565    4.053 ...]\n",
      "    2600   -159.0     18.4   -138.1      7  [   76.196   85.630 1250.298    0.562    4.167 ...]\n",
      "    2700   -159.0     18.4   -138.0      7  [   80.765   83.466 1226.650    0.587    3.980 ...]\n",
      "    2800   -159.0     18.4   -137.8      7  [   81.797   83.345 1249.636    0.591    4.126 ...]\n",
      "    2900   -159.0     18.4   -137.7      7  [   84.316   88.634 1230.378    0.591    4.077 ...]\n",
      "    3000   -159.0     18.4   -137.6      7  [   84.375   88.133 1225.084    0.588    4.056 ...]\n",
      "    3100   -159.0     18.4   -137.5      7  [   85.520   87.211 1219.534    0.594    3.983 ...]\n",
      "    3200   -159.0     18.4   -137.4      7  [   85.461   87.528 1239.976    0.586    4.092 ...]\n",
      "    3300   -159.0     18.4   -137.4      7  [   86.280   87.972 1219.267    0.591    4.003 ...]\n",
      "    3400   -159.0     18.4   -137.3      7  [   88.290   91.493 1239.408    0.591    4.117 ...]\n",
      "    3500   -159.0     18.4   -137.3      7  [   87.165   89.270 1234.813    0.589    4.086 ...]\n",
      "    3600   -159.0     18.4   -137.2      7  [   96.543   95.523 1235.627    0.592    4.141 ...]\n",
      "Engines              success     reject     failed      calls\n",
      "GalileanEngine         20245       6723      10822          0\n",
      "Calls to LogL          37790   to dLogL      13446\n",
      "Samples        3786\n",
      "Evidence       -69.060 +-      0.186\n"
     ]
    },
    {
     "data": {
      "image/png": "[encoded data removed]",
      "text/plain": [
       "<matplotlib.figure.Figure at 0x10c00eeb8>"
      ]
     },
     "metadata": {},
     "output_type": "display_data"
    }
   ],
   "source": [
    "# define NestedSampler\n",
    "ns = NestedSampler( jd, mdl, rv, seed=1308 )\n",
    "ns.verbose = 2\n",
    "# set limits on the noise scale of the distribution\n",
    "ns.distribution.setLimits( [0.01,100] )\n",
    "\n",
    "# run NestedSampler\n",
    "evi = ns.sample( plot=True )\n",
    "\n",
    "# RadialVelocityModel has no partial. Numeric partials are used in stead."
   ]
  },
  {
   "cell_type": "code",
   "execution_count": 6,
   "metadata": {},
   "outputs": [
    {
     "name": "stdout",
     "output_type": "stream",
     "text": [
      "[   74.021   82.824 1233.347    0.564    4.062    2.635]\n",
      "[    6.652    4.969   19.970    0.025    0.127    0.087]\n",
      "   15.210     1.884\n",
      "-69.06001367982545\n"
     ]
    }
   ],
   "source": [
    "sl = ns.samples\n",
    "par = sl.parameters\n",
    "std = sl.stdevs\n",
    "print( fmt( par, max=None ) )\n",
    "print( fmt( std, max=None ) )\n",
    "print( fmt( sl.scale ), fmt( sl.stdevScale ) )\n",
    "print( evi )"
   ]
  },
  {
   "cell_type": "code",
   "execution_count": 7,
   "metadata": {},
   "outputs": [
    {
     "data": {
      "image/png": "[encoded data removed]",
      "text/plain": [
       "<matplotlib.figure.Figure at 0x10c085da0>"
      ]
     },
     "metadata": {},
     "output_type": "display_data"
    }
   ],
   "source": [
    "plt.plot( jd, rv, 'k. ' )\n",
    "xx = numpy.linspace( 100, 1500, 1401, dtype=float )\n",
    "plt.plot( xx, mdl.result( xx, par ), 'r-' )\n",
    "plt.xlabel( \"JulianDays (-2451000)\")\n",
    "plt.ylabel( \"Radial Velocity\")\n",
    "plt.title( \"HD2039\" )\n",
    "plt.show()"
   ]
  },
  {
   "cell_type": "code",
   "execution_count": null,
   "metadata": {},
   "outputs": [],
   "source": []
  }
 ],
 "metadata": {
  "anaconda-cloud": {},
  "kernelspec": {
   "display_name": "Python 3",
   "language": "python",
   "name": "python3"
  },
  "language_info": {
   "codemirror_mode": {
    "name": "ipython",
    "version": 3
   },
   "file_extension": ".py",
   "mimetype": "text/x-python",
   "name": "python",
   "nbconvert_exporter": "python",
   "pygments_lexer": "ipython3",
   "version": "3.5.4"
  }
 },
 "nbformat": 4,
 "nbformat_minor": 1
}
