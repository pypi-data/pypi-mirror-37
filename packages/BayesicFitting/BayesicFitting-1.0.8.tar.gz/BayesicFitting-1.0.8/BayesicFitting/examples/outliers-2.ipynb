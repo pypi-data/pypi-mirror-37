{
 "cells": [
  {
   "cell_type": "markdown",
   "metadata": {},
   "source": [
    "## Outliers\n",
    "\n",
    "Outliers are data points that we dont want to consider in our fit. The reasons can be different. It might be spurious signal falling on the detector, like glitches, or in principle valid signal that cannot be considered in the model at hand.\n",
    "\n",
    "Here we present the same data as in the methanol example. See there for explanation of the construction of the spectrum. \n",
    "\n",
    "Part of that spectrum (around 500 GHz) shows a sinusoidal background signal, which is caused by aliasing in the deconvolution process. \n",
    "\n",
    "We want to fit the background with a sine function. All absorption lines in the spectrum are outliers and should be disregarded.\n",
    "\n",
    "In this example we use the NestedSampler with a mixture of 2 error distributions: Gauss and Uniform\n",
    "\n",
    "Demonstration: \n",
    "    1. Compound model of sine + constant\n",
    "    2. NestedSampler \n",
    "    3. MixedErrorDistribution: Gauss + Uniform\n",
    "\n",
    "Author: Do Kester\n"
   ]
  },
  {
   "cell_type": "markdown",
   "metadata": {},
   "source": [
    "We need to import some classes"
   ]
  },
  {
   "cell_type": "code",
   "execution_count": 1,
   "metadata": {},
   "outputs": [],
   "source": [
    "import numpy as numpy\n",
    "import math\n",
    "\n",
    "from astropy.io import fits\n",
    "from BayesicFitting import SineModel\n",
    "from BayesicFitting import PolynomialModel\n",
    "from BayesicFitting import NestedSampler\n",
    "from BayesicFitting import MixedErrorDistribution\n",
    "from BayesicFitting import GaussErrorDistribution\n",
    "from BayesicFitting import UniformErrorDistribution\n",
    "from BayesicFitting import formatter as fmt\n",
    "from BayesicFitting import Tools\n",
    "from BayesicFitting import plotFit\n",
    "import matplotlib.pyplot as plt\n",
    "import matplotlib.gridspec as gridspec\n"
   ]
  },
  {
   "cell_type": "code",
   "execution_count": 2,
   "metadata": {},
   "outputs": [],
   "source": [
    "# uncomment the next line to get the plots in a separate scalable \n",
    "# window.\n",
    "\n",
    "#%matplotlib osx\n",
    "\n",
    "%matplotlib inline"
   ]
  },
  {
   "cell_type": "markdown",
   "metadata": {},
   "source": [
    "Read the data"
   ]
  },
  {
   "cell_type": "code",
   "execution_count": 3,
   "metadata": {},
   "outputs": [],
   "source": [
    "hdu = fits.open( \"data/Decgf-Methanol-1-5.fits\" )"
   ]
  },
  {
   "cell_type": "code",
   "execution_count": 4,
   "metadata": {},
   "outputs": [],
   "source": [
    "data = hdu[1].data\n",
    "flux = data.field( 0 )\n",
    "freq = data.field( 1 )\n",
    "covr = data.field( 2 )\n"
   ]
  },
  {
   "cell_type": "markdown",
   "metadata": {},
   "source": [
    "Select the part between 490 and 560 GHz, where the background is aliased."
   ]
  },
  {
   "cell_type": "code",
   "execution_count": 5,
   "metadata": {},
   "outputs": [
    {
     "name": "stdout",
     "output_type": "stream",
     "text": [
      "140000\n"
     ]
    },
    {
     "data": {
      "image/png": "[encoded data removed]",
      "text/plain": [
       "<matplotlib.figure.Figure at 0x10f81d7f0>"
      ]
     },
     "metadata": {},
     "output_type": "display_data"
    }
   ],
   "source": [
    "q = numpy.where( numpy.logical_and( freq > 490, freq < 560 ))\n",
    "flx = flux[q]\n",
    "frq = freq[q]\n",
    "cov = covr[q]\n",
    "print( len( flx ) )\n",
    "plt.figure( \"490 to 560\", figsize=(12,4) )\n",
    "plt.plot( frq, flx, 'k-')\n",
    "plt.ylabel( \"flux\" )\n",
    "plt.xlabel( \"frequency (GHz)\" )\n",
    "\n",
    "plt.show()\n"
   ]
  },
  {
   "cell_type": "markdown",
   "metadata": {},
   "source": [
    "Make a compound model consisting of a SineModel plus a constant: PolynomialModel( 0 )."
   ]
  },
  {
   "cell_type": "code",
   "execution_count": 6,
   "metadata": {},
   "outputs": [],
   "source": [
    "sm = SineModel()\n",
    "lo = [0.9, -0.2, -0.2]\n",
    "hi = [1.1, 0.2,  0.2]\n",
    "sm.setLimits( lo, hi )\n",
    "pm = PolynomialModel( 0 )\n",
    "pm.setLimits( [0.99], [1.01] )\n",
    "model = pm + sm\n"
   ]
  },
  {
   "cell_type": "markdown",
   "metadata": {},
   "source": [
    "Construct a mixed error distribution consisting of a Gaussian kernel which should catch the sinusoidal background plus a broad Uniform error distribution that should catch and neutralize the absorption lines."
   ]
  },
  {
   "cell_type": "code",
   "execution_count": 7,
   "metadata": {
    "scrolled": false
   },
   "outputs": [
    {
     "name": "stdout",
     "output_type": "stream",
     "text": [
      "Fit all parameters of\n",
      "  Polynomial: f( x:p ) = p_0 +\n",
      "  Sine: f( x:p ) = p_2 * cos( 2PI * x * p_1 ) + p_3 * sin( 2PI * x * p_1 )\n",
      "Using a Mixed error distribution : Gauss + Uniform with with unknown hypar\n",
      "Moving the walkers with   GalileanEngine\n",
      "Using no threads.\n",
      "Iteration   logZ        H     LowL     npar    parameters\n",
      "       0 -359677486.0      4.6 -359677481.4      7  [    1.004    0.946    0.096    0.170    0.002 ...]\n"
     ]
    },
    {
     "name": "stderr",
     "output_type": "stream",
     "text": [
      "/opt/local/Library/Frameworks/Python.framework/Versions/3.5/lib/python3.5/site-packages/BayesicFitting-1.0.7-py3.5.egg/BayesicFitting/source/MixedErrorDistribution.py:214: RuntimeWarning: divide by zero encountered in true_divide\n",
      "/opt/local/Library/Frameworks/Python.framework/Versions/3.5/lib/python3.5/site-packages/BayesicFitting-1.0.7-py3.5.egg/BayesicFitting/source/MixedErrorDistribution.py:214: RuntimeWarning: overflow encountered in true_divide\n"
     ]
    },
    {
     "name": "stdout",
     "output_type": "stream",
     "text": [
      "     100 -62889.7      5.6 -62884.1      7  [    0.992    0.937    0.197   -0.164    0.303 ...]\n",
      "     200  50098.4      6.6  50105.0      7  [    1.008    0.942   -0.150   -0.004    0.078 ...]\n",
      "     300 103615.1      7.6 103622.7      7  [    0.993    0.973   -0.024    0.127    0.075 ...]\n",
      "     400 152312.9      8.6 152321.5      7  [    1.002    1.087    0.009    0.023    0.077 ...]\n",
      "     500 199004.3      9.6 199014.0      7  [    0.991    0.980   -0.036    0.007    0.051 ...]\n",
      "     600 249998.9     10.6 250009.5      7  [    1.010    0.924   -0.013    0.017    0.016 ...]\n",
      "     700 291860.1     11.6 291871.7      7  [    0.999    0.959   -0.019   -0.003    0.012 ...]\n",
      "     800 330943.8     12.6 330956.5      7  [    0.991    0.981   -0.013    0.013    0.016 ...]\n",
      "     900 368949.2     13.6 368962.8      7  [    0.995    0.991    0.009   -0.000    0.014 ...]\n",
      "    1000 392439.2     14.6 392453.8      7  [    1.003    1.041    0.004    0.001    0.011 ...]\n",
      "    1100 414846.2     15.6 414861.8      7  [    1.002    0.979   -0.002   -0.000    0.005 ...]\n",
      "    1200 432521.1     16.6 432537.7      7  [    0.997    0.974   -0.000   -0.001    0.004 ...]\n",
      "    1300 446364.4     17.6 446382.0      7  [    0.998    0.941   -0.001    0.004    0.006 ...]\n",
      "    1400 455558.7     18.6 455577.3      7  [    0.999    0.939    0.001   -0.003    0.005 ...]\n",
      "    1500 463378.2     19.6 463397.8      7  [    0.998    0.954   -0.002   -0.002    0.005 ...]\n",
      "    1600 467794.1     20.6 467814.7      7  [    0.998    0.995   -0.003   -0.001    0.005 ...]\n",
      "    1700 470833.3     21.6 470854.9      7  [    0.999    1.038    0.001    0.000    0.005 ...]\n",
      "    1800 474617.3     22.6 474639.9      7  [    0.998    0.993   -0.001   -0.000    0.005 ...]\n",
      "    1900 481301.0     23.6 481324.6      7  [    0.998    0.997   -0.003    0.001    0.005 ...]\n",
      "    2000 485959.4     24.6 485984.0      7  [    0.999    0.998   -0.000    0.006    0.005 ...]\n",
      "    2100 488473.4     25.6 488499.0      7  [    0.998    0.997   -0.004    0.002    0.005 ...]\n",
      "    2200 491331.5     26.6 491358.1      7  [    0.998    0.998    0.004    0.003    0.005 ...]\n",
      "    2300 494640.0     27.6 494667.6      7  [    0.998    0.999    0.003   -0.003    0.005 ...]\n",
      "    2400 496914.6     28.6 496943.3      7  [    0.999    1.000   -0.003    0.003    0.004 ...]\n",
      "    2500 499551.0     29.6 499580.6      7  [    1.000    1.000   -0.000    0.005    0.004 ...]\n",
      "    2600 501941.2     30.6 501971.8      7  [    1.000    1.000   -0.001    0.003    0.004 ...]\n",
      "    2700 503365.9     31.1 503397.3      7  [    0.999    1.000   -0.002    0.003    0.004 ...]\n",
      "    2800 504548.5     32.6 504581.1      7  [    0.998    1.000   -0.000    0.006    0.004 ...]\n",
      "    2900 505685.9     33.6 505719.5      7  [    1.000    1.000    0.003    0.005    0.004 ...]\n",
      "    3000 506676.6     34.6 506711.2      7  [    0.998    1.000   -0.002    0.005    0.004 ...]\n",
      "    3100 507885.6     35.6 507921.2      7  [    0.998    1.000   -0.001    0.005    0.004 ...]\n",
      "    3200 509541.7     36.6 509578.3      7  [    0.999    1.000   -0.000    0.005    0.004 ...]\n",
      "    3300 511559.4     37.6 511597.0      7  [    0.998    1.000    0.000    0.005    0.004 ...]\n",
      "    3400 513443.5     38.3 513482.0      7  [    0.999    1.000   -0.001    0.005    0.004 ...]\n",
      "    3500 514461.5     39.6 514501.1      7  [    0.999    1.000   -0.000    0.005    0.003 ...]\n",
      "    3600 515153.2     40.1 515193.6      7  [    0.999    1.000    0.001    0.005    0.003 ...]\n",
      "    3700 515573.6     40.8 515614.9      7  [    0.999    1.000   -0.000    0.005    0.003 ...]\n",
      "    3800 516092.7     42.6 516135.3      7  [    0.999    1.000   -0.003    0.004    0.004 ...]\n",
      "    3900 516539.2     43.5 516582.8      7  [    0.999    1.000   -0.000    0.006    0.003 ...]\n",
      "    4000 517078.8     44.2 517123.2      7  [    0.999    1.000    0.001    0.005    0.003 ...]\n",
      "    4100 517505.5     45.6 517551.1      7  [    0.999    1.000   -0.002    0.005    0.003 ...]\n",
      "    4200 517904.7     46.6 517951.3      7  [    0.999    1.000   -0.001    0.005    0.003 ...]\n",
      "    4300 518273.6     47.4 518321.1      7  [    0.999    1.000    0.001    0.005    0.003 ...]\n",
      "    4400 518595.9     48.4 518644.4      7  [    0.999    1.000    0.003    0.004    0.003 ...]\n",
      "    4500 519045.8     48.9 519094.9      7  [    0.999    1.000    0.003    0.003    0.003 ...]\n",
      "    4600 519378.0     50.1 519428.3      7  [    0.999    1.000    0.003    0.004    0.003 ...]\n",
      "    4700 519758.4     51.6 519810.0      7  [    0.999    1.000    0.003    0.003    0.003 ...]\n",
      "    4800 520172.3     52.2 520224.8      7  [    0.999    1.000    0.003    0.003    0.003 ...]\n",
      "    4900 520394.0     53.0 520447.3      7  [    1.000    1.000    0.003    0.004    0.003 ...]\n",
      "    5000 520559.9     53.7 520614.0      7  [    0.999    1.000    0.004    0.003    0.003 ...]\n",
      "    5100 520744.0     54.5 520799.2      7  [    1.000    1.000    0.004    0.003    0.003 ...]\n",
      "    5200 520858.7     55.0 520914.1      7  [    0.999    1.000    0.004    0.003    0.003 ...]\n",
      "    5300 520917.8     56.2 520974.5      7  [    0.999    1.000    0.003    0.003    0.003 ...]\n",
      "    5400 520959.5     57.0 521017.4      7  [    0.999    1.000    0.003    0.004    0.003 ...]\n",
      "    5500 521022.5     57.9 521081.3      7  [    1.000    1.000    0.004    0.003    0.003 ...]\n",
      "    5600 521093.3     59.4 521153.1      7  [    0.999    1.000    0.004    0.002    0.003 ...]\n",
      "    5700 521158.0     59.9 521218.5      7  [    0.999    1.000    0.004    0.003    0.003 ...]\n",
      "    5800 521224.5     61.0 521286.3      7  [    1.000    1.000    0.003    0.003    0.003 ...]\n",
      "    5900 521288.7     61.9 521351.5      7  [    1.000    1.000    0.004    0.003    0.003 ...]\n",
      "    6000 521361.8     63.7 521426.1      7  [    0.999    1.000    0.003    0.004    0.003 ...]\n",
      "    6100 521423.4     64.2 521488.1      7  [    0.999    1.000    0.004    0.003    0.003 ...]\n",
      "    6200 521479.5     65.8 521545.8      7  [    0.999    1.000    0.003    0.003    0.003 ...]\n",
      "    6300 521525.6     65.6 521592.0      7  [    0.999    1.000    0.004    0.003    0.003 ...]\n",
      "    6400 521555.4     66.2 521622.5      7  [    0.999    1.000    0.004    0.003    0.003 ...]\n",
      "    6500 521575.8     67.1 521643.8      7  [    0.999    1.000    0.004    0.003    0.003 ...]\n",
      "    6600 521590.7     67.9 521659.3      7  [    1.000    1.000    0.004    0.003    0.003 ...]\n",
      "    6700 521609.7     69.0 521679.4      7  [    0.999    1.000    0.003    0.003    0.003 ...]\n",
      "    6800 521625.6     69.4 521695.9      7  [    0.999    1.000    0.004    0.003    0.003 ...]\n",
      "    6900 521640.0     70.6 521711.2      7  [    0.999    1.000    0.003    0.003    0.003 ...]\n",
      "    7000 521653.7     71.6 521726.5      7  [    0.999    1.000    0.004    0.002    0.003 ...]\n",
      "    7100 521665.9     71.9 521738.6      7  [    0.999    1.000    0.004    0.002    0.003 ...]\n",
      "    7200 521673.4     72.8 521747.1      7  [    0.999    1.000    0.004    0.002    0.003 ...]\n",
      "    7300 521677.9     73.2 521752.1      7  [    0.999    1.000    0.004    0.002    0.003 ...]\n",
      "    7400 521682.5     74.3 521757.8      7  [    0.999    1.000    0.004    0.002    0.003 ...]\n",
      "    7500 521685.8     74.7 521761.6      7  [    0.999    1.000    0.004    0.002    0.003 ...]\n",
      "    7600 521687.5     75.0 521763.8      7  [    0.999    1.000    0.004    0.003    0.003 ...]\n",
      "    7700 521688.6     75.4 521765.4      7  [    0.999    1.000    0.004    0.002    0.003 ...]\n",
      "    7800 521689.2     75.7 521766.7      7  [    0.999    1.000    0.004    0.002    0.003 ...]\n",
      "    7900 521690.0     76.6 521768.8      7  [    0.999    1.000    0.004    0.003    0.003 ...]\n",
      "    8000 521690.8     77.6 521770.6      7  [    0.999    1.000    0.004    0.002    0.003 ...]\n",
      "    8100 521691.6     78.6 521772.4      7  [    0.999    1.000    0.004    0.002    0.003 ...]\n",
      "    8200 521692.2     79.2 521773.5      7  [    0.999    1.000    0.004    0.002    0.003 ...]\n",
      "    8300 521692.6     79.6 521774.3      7  [    0.999    1.000    0.004    0.002    0.003 ...]\n",
      "    8400 521692.8     79.9 521775.0      7  [    0.999    1.000    0.004    0.002    0.003 ...]\n",
      "    8500 521692.9     80.0 521775.4      7  [    0.999    1.000    0.004    0.002    0.003 ...]\n",
      "    8600 521693.0     80.1 521775.9      7  [    0.999    1.000    0.004    0.002    0.003 ...]\n"
     ]
    },
    {
     "name": "stdout",
     "output_type": "stream",
     "text": [
      "    8700 521693.0     80.2 521776.5      7  [    0.999    1.000    0.004    0.002    0.003 ...]\n",
      "    8800 521693.1     80.3 521777.2      7  [    0.999    1.000    0.004    0.002    0.003 ...]\n",
      "    8900 521693.1     80.3 521777.8      7  [    0.999    1.000    0.004    0.002    0.003 ...]\n",
      "    9000 521693.1     80.4 521778.8      7  [    0.999    1.000    0.004    0.002    0.003 ...]\n",
      "    9100 521693.1     80.4 521779.5      7  [    0.999    1.000    0.004    0.002    0.003 ...]\n",
      "    9200 521693.1     80.5 521780.0      7  [    0.999    1.000    0.004    0.002    0.003 ...]\n",
      "    9300 521693.1     80.5 521780.4      7  [    0.999    1.000    0.004    0.002    0.003 ...]\n",
      "    9400 521693.1     80.5 521781.1      7  [    0.999    1.000    0.004    0.002    0.003 ...]\n",
      "    9500 521693.1     80.5 521781.6      7  [    0.999    1.000    0.004    0.002    0.003 ...]\n",
      "    9600 521693.1     80.5 521782.1      7  [    0.999    1.000    0.004    0.003    0.003 ...]\n",
      "    9700 521693.1     80.5 521782.6      7  [    0.999    1.000    0.004    0.002    0.003 ...]\n",
      "    9800 521693.1     80.5 521782.9      7  [    0.999    1.000    0.004    0.002    0.003 ...]\n",
      "    9900 521693.1     80.5 521783.3      7  [    0.999    1.000    0.004    0.003    0.003 ...]\n",
      "   10000 521693.1     80.5 521783.7      7  [    0.999    1.000    0.004    0.003    0.003 ...]\n",
      "   10100 521693.1     80.5 521784.0      7  [    0.999    1.000    0.004    0.002    0.003 ...]\n",
      "   10200 521693.1     80.5 521784.5      7  [    0.999    1.000    0.004    0.002    0.003 ...]\n",
      "   10300 521693.1     80.5 521784.9      7  [    0.999    1.000    0.004    0.003    0.003 ...]\n",
      "   10400 521693.1     80.5 521785.1      7  [    0.999    1.000    0.004    0.002    0.003 ...]\n",
      "   10500 521693.1     80.5 521785.4      7  [    0.999    1.000    0.004    0.003    0.003 ...]\n",
      "   10600 521693.1     80.5 521785.6      7  [    0.999    1.000    0.004    0.003    0.003 ...]\n",
      "   10700 521693.1     80.5 521785.7      7  [    0.999    1.000    0.004    0.003    0.003 ...]\n",
      "   10800 521693.1     80.5 521785.9      7  [    0.999    1.000    0.004    0.003    0.003 ...]\n",
      "   10900 521693.1     80.5 521786.1      7  [    0.999    1.000    0.004    0.003    0.003 ...]\n",
      "   11000 521693.1     80.5 521786.2      7  [    0.999    1.000    0.004    0.003    0.003 ...]\n",
      "   11100 521693.1     80.5 521786.3      7  [    0.999    1.000    0.004    0.003    0.003 ...]\n",
      "   11200 521693.1     80.5 521786.3      7  [    0.999    1.000    0.004    0.003    0.003 ...]\n",
      "   11300 521693.1     80.5 521786.4      7  [    0.999    1.000    0.004    0.003    0.003 ...]\n",
      "   11400 521693.1     80.5 521786.5      7  [    0.999    1.000    0.004    0.003    0.003 ...]\n",
      "   11500 521693.1     80.5 521786.5      7  [    0.999    1.000    0.004    0.003    0.003 ...]\n",
      "   11600 521693.1     80.5 521786.6      7  [    0.999    1.000    0.004    0.003    0.003 ...]\n",
      "   11700 521693.1     80.5 521786.7      7  [    0.999    1.000    0.004    0.003    0.003 ...]\n",
      "   11800 521693.1     80.5 521786.8      7  [    0.999    1.000    0.004    0.002    0.003 ...]\n",
      "   11900 521693.1     80.5 521786.9      7  [    0.999    1.000    0.004    0.002    0.003 ...]\n",
      "   12000 521693.1     80.5 521787.0      7  [    0.999    1.000    0.004    0.002    0.003 ...]\n",
      "   12100 521693.1     80.5 521787.1      7  [    0.999    1.000    0.004    0.002    0.003 ...]\n",
      "   12200 521693.1     80.5 521787.1      7  [    0.999    1.000    0.004    0.003    0.003 ...]\n",
      "   12300 521693.1     80.5 521787.1      7  [    0.999    1.000    0.004    0.002    0.003 ...]\n",
      "   12400 521693.1     80.5 521787.1      7  [    0.999    1.000    0.004    0.002    0.003 ...]\n",
      "   12500 521693.1     80.5 521787.2      7  [    0.999    1.000    0.004    0.002    0.003 ...]\n",
      "   12600 521693.1     80.5 521787.2      7  [    0.999    1.000    0.004    0.002    0.003 ...]\n",
      "   12700 521693.1     80.5 521787.2      7  [    0.999    1.000    0.004    0.002    0.003 ...]\n",
      "   12800 521693.1     80.5 521787.2      7  [    0.999    1.000    0.004    0.002    0.003 ...]\n",
      "   12900 521693.1     80.5 521787.2      7  [    0.999    1.000    0.004    0.002    0.003 ...]\n",
      "   13000 521693.1     80.5 521787.2      7  [    0.999    1.000    0.004    0.002    0.003 ...]\n",
      "   13100 521693.1     80.5 521787.2      7  [    0.999    1.000    0.004    0.002    0.003 ...]\n",
      "   13200 521693.1     80.5 521787.2      7  [    0.999    1.000    0.004    0.002    0.003 ...]\n",
      "   13300 521693.1     80.5 521787.2      7  [    0.999    1.000    0.004    0.002    0.003 ...]\n",
      "   13400 521693.1     80.5 521787.2      7  [    0.999    1.000    0.004    0.002    0.003 ...]\n",
      "   13500 521693.1     80.5 521787.2      7  [    0.999    1.000    0.004    0.002    0.003 ...]\n",
      "   13600 521693.1     80.5 521787.2      7  [    0.999    1.000    0.004    0.002    0.003 ...]\n",
      "   13700 521693.1     80.5 521787.2      7  [    0.999    1.000    0.004    0.002    0.003 ...]\n",
      "   13800 521693.1     80.5 521787.2      7  [    0.999    1.000    0.004    0.002    0.003 ...]\n",
      "   13900 521693.1     80.5 521787.2      7  [    0.999    1.000    0.004    0.002    0.003 ...]\n",
      "   14000 521693.1     80.5 521787.3      7  [    0.999    1.000    0.004    0.002    0.003 ...]\n",
      "   14100 521693.1     80.5 521787.3      7  [    0.999    1.000    0.004    0.002    0.003 ...]\n",
      "   14200 521693.1     80.5 521787.3      7  [    0.999    1.000    0.004    0.002    0.003 ...]\n",
      "   14300 521693.1     80.5 521787.3      7  [    0.999    1.000    0.004    0.002    0.003 ...]\n",
      "   14400 521693.1     80.5 521787.3      7  [    0.999    1.000    0.004    0.002    0.003 ...]\n",
      "   14500 521693.1     80.5 521787.3      7  [    0.999    1.000    0.004    0.002    0.003 ...]\n",
      "   14600 521693.1     80.5 521787.3      7  [    0.999    1.000    0.004    0.002    0.003 ...]\n",
      "   14700 521693.1     80.5 521787.3      7  [    0.999    1.000    0.004    0.002    0.003 ...]\n",
      "   14800 521693.1     80.5 521787.3      7  [    0.999    1.000    0.004    0.002    0.003 ...]\n",
      "   14900 521693.1     80.5 521787.3      7  [    0.999    1.000    0.004    0.002    0.003 ...]\n",
      "   15000 521693.1     80.5 521787.3      7  [    0.999    1.000    0.004    0.002    0.003 ...]\n",
      "   15100 521693.1     80.5 521787.3      7  [    0.999    1.000    0.004    0.002    0.003 ...]\n",
      "   15200 521693.1     80.5 521787.3      7  [    0.999    1.000    0.004    0.002    0.003 ...]\n",
      "   15300 521693.1     80.5 521787.3      7  [    0.999    1.000    0.004    0.002    0.003 ...]\n",
      "   15400 521693.1     80.5 521787.3      7  [    0.999    1.000    0.004    0.002    0.003 ...]\n",
      "   15500 521693.1     80.5 521787.3      7  [    0.999    1.000    0.004    0.002    0.003 ...]\n",
      "   15600 521693.1     80.5 521787.3      7  [    0.999    1.000    0.004    0.002    0.003 ...]\n",
      "   15700 521693.1     80.5 521787.3      7  [    0.999    1.000    0.004    0.002    0.003 ...]\n",
      "   15800 521693.1     80.5 521787.3      7  [    0.999    1.000    0.004    0.002    0.003 ...]\n",
      "   15900 521693.1     80.5 521787.3      7  [    0.999    1.000    0.004    0.002    0.003 ...]\n",
      "   16000 521693.1     80.5 521787.3      7  [    0.999    1.000    0.004    0.002    0.003 ...]\n",
      "   16100 521693.1     80.5 521787.3      7  [    0.999    1.000    0.004    0.002    0.003 ...]\n",
      "Engines              success     reject     failed       best        calls\n",
      "GalileanEngine         88748      33337      56588        294          0\n",
      "Calls to LogL         178673   to dLogL      33337\n",
      "Samples       16209\n",
      "Evidence    226568.443 +-      0.390\n"
     ]
    }
   ],
   "source": [
    "ged = GaussErrorDistribution( frq, flx, limits=[0.001,1])\n",
    "ued = UniformErrorDistribution( frq, flx, limits=[0.1,10] )\n",
    "ed = MixedErrorDistribution( ged, ued, limits=[0,1] )\n",
    "\n",
    "#Tools.printclass( ed )\n",
    "#Tools.printclass( ed.hyperpar[0] )\n",
    "#Tools.printclass( ed.hyperpar[1] )\n",
    "#Tools.printclass( ed.hyperpar[2] )\n",
    "\n",
    "ns = NestedSampler( frq, model, flx, distribution=ed, seed=2222 )\n",
    "ns.verbose = 2\n",
    "\n",
    "evidence = ns.sample( )\n",
    "pars = ns.parameters\n",
    "#print( pars )\n",
    "#print( ns.stdevs )\n",
    "#print( ns.scale )\n",
    "#print( evidence )"
   ]
  },
  {
   "cell_type": "code",
   "execution_count": 8,
   "metadata": {},
   "outputs": [
    {
     "name": "stdout",
     "output_type": "stream",
     "text": [
      "Params  [    0.99940    0.99968    0.00430    0.00204]\n",
      "Stdevs  [    0.00000    0.00001    0.00009    0.00016]\n",
      "Hypars  [    0.00289    0.80301    0.91372]\n",
      "StdHyp  [  0.0000039  0.0000596  0.0007171]\n"
     ]
    }
   ],
   "source": [
    "sl = ns.samples\n",
    "param = sl.parameters\n",
    "stdev = sl.stdevs\n",
    "hypar = sl.hypars\n",
    "sthyp = sl.stdevHypars\n",
    "print( \"Params \", fmt( param, max=None, format=\" %10.5f\" ) )\n",
    "print( \"Stdevs \", fmt( stdev, max=None, format=\" %10.5f\" ) )\n",
    "print( \"Hypars \", fmt( hypar, max=None, format=\" %10.5f\" ) )\n",
    "print( \"StdHyp \", fmt( sthyp, max=None, format=\" %10.7f\" ) )\n"
   ]
  },
  {
   "cell_type": "code",
   "execution_count": 9,
   "metadata": {},
   "outputs": [
    {
     "data": {
      "image/png": "[encoded data removed]",
      "text/plain": [
       "<matplotlib.figure.Figure at 0x10f81d5f8>"
      ]
     },
     "metadata": {},
     "output_type": "display_data"
    }
   ],
   "source": [
    "yfit = model.result( frq, param )\n",
    "plt.figure( 1, figsize=(12,4) )\n",
    "plt.plot( frq, flx, 'k,' )\n",
    "plt.plot( frq, yfit, 'r-' )\n",
    "plt.show()"
   ]
  },
  {
   "cell_type": "code",
   "execution_count": null,
   "metadata": {},
   "outputs": [],
   "source": []
  }
 ],
 "metadata": {
  "anaconda-cloud": {},
  "kernelspec": {
   "display_name": "Python 3",
   "language": "python",
   "name": "python3"
  },
  "language_info": {
   "codemirror_mode": {
    "name": "ipython",
    "version": 3
   },
   "file_extension": ".py",
   "mimetype": "text/x-python",
   "name": "python",
   "nbconvert_exporter": "python",
   "pygments_lexer": "ipython3",
   "version": "3.5.4"
  }
 },
 "nbformat": 4,
 "nbformat_minor": 1
}
