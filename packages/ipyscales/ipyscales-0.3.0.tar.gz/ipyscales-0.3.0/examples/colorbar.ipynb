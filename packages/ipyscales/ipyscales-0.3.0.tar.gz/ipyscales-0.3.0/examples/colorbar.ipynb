{
 "cells": [
  {
   "cell_type": "markdown",
   "metadata": {},
   "source": [
    "# Color bars"
   ]
  },
  {
   "cell_type": "markdown",
   "metadata": {},
   "source": [
    "ipyscales includes widgets for visualising color maps as color bars, and for manually editing color maps.\n",
    "\n",
    "Let's define two simple color maps first:"
   ]
  },
  {
   "cell_type": "code",
   "execution_count": 1,
   "metadata": {},
   "outputs": [],
   "source": [
    "import ipyscales"
   ]
  },
  {
   "cell_type": "code",
   "execution_count": 2,
   "metadata": {},
   "outputs": [],
   "source": [
    "cm = ipyscales.LinearColorScale(\n",
    "    range=('blue', 'green'),\n",
    "    domain=(1000, 5000)\n",
    ")\n",
    "cm_div = ipyscales.LinearColorScale(\n",
    "    range=('blue', 'white', 'red'),\n",
    "    domain=(-1, 0, 1)\n",
    ")"
   ]
  },
  {
   "cell_type": "markdown",
   "metadata": {},
   "source": [
    "Next, let us define a color bar for the first color map:"
   ]
  },
  {
   "cell_type": "code",
   "execution_count": 3,
   "metadata": {},
   "outputs": [],
   "source": [
    "colorbar = ipyscales.ColorBar(colormap=cm, length=300)\n",
    "assert colorbar.colormap is cm"
   ]
  },
  {
   "cell_type": "code",
   "execution_count": 4,
   "metadata": {},
   "outputs": [
    {
     "data": {
      "application/vnd.jupyter.widget-view+json": {
       "model_id": "9231872788cf45e4909758a61a2112ff",
       "version_major": 2,
       "version_minor": 0
      },
      "text/plain": [
       "ColorBar(colormap=LinearColorScale(domain=(1000.0, 5000.0), range=('blue', 'green')), length=300)"
      ]
     },
     "metadata": {},
     "output_type": "display_data"
    }
   ],
   "source": [
    "colorbar"
   ]
  },
  {
   "cell_type": "markdown",
   "metadata": {},
   "source": [
    "The orientation of the color bar can be made horizontal as well:"
   ]
  },
  {
   "cell_type": "code",
   "execution_count": 5,
   "metadata": {},
   "outputs": [
    {
     "data": {
      "application/vnd.jupyter.widget-view+json": {
       "model_id": "9e0914d814114f488f93c8cb91224b53",
       "version_major": 2,
       "version_minor": 0
      },
      "text/plain": [
       "ColorBar(colormap=LinearColorScale(domain=(-1.0, 0.0, 1.0), range=('blue', 'white', 'red')), length=300, orien…"
      ]
     },
     "metadata": {},
     "output_type": "display_data"
    }
   ],
   "source": [
    "ipyscales.ColorBar(colormap=cm_div, length=300, orientation='horizontal')"
   ]
  },
  {
   "cell_type": "markdown",
   "metadata": {},
   "source": [
    "The color map can include transparent colors, and the color bar also supports this:"
   ]
  },
  {
   "cell_type": "code",
   "execution_count": 6,
   "metadata": {},
   "outputs": [],
   "source": [
    "cm_div_transp = ipyscales.LinearColorScale(\n",
    "    range=('rgba(0, 0, 255, 0.5)', 'white', 'rgba(255, 0, 0, 0.5)'),\n",
    "    domain=(-1, 0, 1)\n",
    ")"
   ]
  },
  {
   "cell_type": "code",
   "execution_count": 7,
   "metadata": {},
   "outputs": [
    {
     "data": {
      "application/vnd.jupyter.widget-view+json": {
       "model_id": "8d213657ba704301a8c4d2ea4083700b",
       "version_major": 2,
       "version_minor": 0
      },
      "text/plain": [
       "ColorBar(colormap=LinearColorScale(domain=(-1.0, 0.0, 1.0), range=('rgba(0, 0, 255, 0.5)', 'white', 'rgba(255,…"
      ]
     },
     "metadata": {},
     "output_type": "display_data"
    }
   ],
   "source": [
    "ipyscales.ColorBar(colormap=cm_div_transp, length=200)"
   ]
  },
  {
   "cell_type": "markdown",
   "metadata": {},
   "source": [
    "The editor `ColorMapEditor` can be used to manually edit the color map. The actions you can do are:\n",
    "- Change the color of a stop by double-clicking the corresponding handle.\n",
    "- Change the location of stops by dragging the handles."
   ]
  },
  {
   "cell_type": "code",
   "execution_count": 8,
   "metadata": {},
   "outputs": [
    {
     "data": {
      "application/vnd.jupyter.widget-view+json": {
       "model_id": "82daf521ea3d4fdb9456562d9d283ba2",
       "version_major": 2,
       "version_minor": 0
      },
      "text/plain": [
       "ColorMapEditor(colormap=LinearColorScale(domain=(-1.0, 0.0, 1.0), range=('rgba(0, 0, 255, 0.5)', 'white', 'rgb…"
      ]
     },
     "metadata": {},
     "output_type": "display_data"
    }
   ],
   "source": [
    "ipyscales.ColorMapEditor(\n",
    "    colormap=cm_div_transp, length=400, orientation='horizontal')"
   ]
  },
  {
   "cell_type": "markdown",
   "metadata": {},
   "source": [
    "Future features planned for the editor include:\n",
    "- Adding new stops.\n",
    "- Removing stops.\n",
    "- Modifying the stop location by numeric input.\n",
    "- UI for changing opacity of a color stop."
   ]
  },
  {
   "cell_type": "code",
   "execution_count": null,
   "metadata": {},
   "outputs": [],
   "source": []
  }
 ],
 "metadata": {
  "kernelspec": {
   "display_name": "Python 3",
   "language": "python",
   "name": "python3"
  },
  "language_info": {
   "codemirror_mode": {
    "name": "ipython",
    "version": 3
   },
   "file_extension": ".py",
   "mimetype": "text/x-python",
   "name": "python",
   "nbconvert_exporter": "python",
   "pygments_lexer": "ipython3",
   "version": "3.6.6"
  },
  "widgets": {
   "application/vnd.jupyter.widget-state+json": {
    "state": {
     "5d0e63bd46d6474daa154fc98945d0e3": {
      "model_module": "@jupyter-widgets/base",
      "model_module_version": "1.1.0",
      "model_name": "LayoutModel",
      "state": {}
     },
     "6e0cd053b9744711ae843b6cddc886d1": {
      "model_module": "jupyter-scales",
      "model_module_version": "^1.0.0",
      "model_name": "LinearColorScaleModel",
      "state": {
       "_model_module_version": "^1.0.0",
       "_view_module_version": "",
       "domain": [
        -1,
        0,
        1
       ],
       "range": [
        "blue",
        "white",
        "red"
       ]
      }
     },
     "75f5989ce02a49f3912bc26d96b7c38e": {
      "model_module": "@jupyter-widgets/base",
      "model_module_version": "1.1.0",
      "model_name": "LayoutModel",
      "state": {}
     },
     "82daf521ea3d4fdb9456562d9d283ba2": {
      "model_module": "jupyter-scales",
      "model_module_version": "^1.0.0",
      "model_name": "ColorMapEditorModel",
      "state": {
       "_model_module_version": "^1.0.0",
       "_view_module_version": "^1.0.0",
       "colormap": "IPY_MODEL_944a48ba0d7344efbeb9ad487953617d",
       "layout": "IPY_MODEL_75f5989ce02a49f3912bc26d96b7c38e",
       "length": 400
      }
     },
     "8d213657ba704301a8c4d2ea4083700b": {
      "model_module": "jupyter-scales",
      "model_module_version": "^1.0.0",
      "model_name": "ColorBarModel",
      "state": {
       "_model_module_version": "^1.0.0",
       "_view_module_version": "^1.0.0",
       "colormap": "IPY_MODEL_944a48ba0d7344efbeb9ad487953617d",
       "layout": "IPY_MODEL_5d0e63bd46d6474daa154fc98945d0e3",
       "length": 200
      }
     },
     "9231872788cf45e4909758a61a2112ff": {
      "model_module": "jupyter-scales",
      "model_module_version": "^1.0.0",
      "model_name": "ColorBarModel",
      "state": {
       "_model_module_version": "^1.0.0",
       "_view_module_version": "^1.0.0",
       "colormap": "IPY_MODEL_955745b993894a0e936971314e7f0416",
       "layout": "IPY_MODEL_edf1e2a530f74192a824fb5f11f3b262",
       "length": 300
      }
     },
     "944a48ba0d7344efbeb9ad487953617d": {
      "model_module": "jupyter-scales",
      "model_module_version": "^1.0.0",
      "model_name": "LinearColorScaleModel",
      "state": {
       "_model_module_version": "^1.0.0",
       "_view_module_version": "",
       "domain": [
        -1,
        0,
        1
       ],
       "range": [
        "rgba(0, 0, 255, 0.5)",
        "white",
        "rgba(255, 0, 0, 0.5)"
       ]
      }
     },
     "955745b993894a0e936971314e7f0416": {
      "model_module": "jupyter-scales",
      "model_module_version": "^1.0.0",
      "model_name": "LinearColorScaleModel",
      "state": {
       "_model_module_version": "^1.0.0",
       "_view_module_version": "",
       "domain": [
        1000,
        5000
       ],
       "range": [
        "blue",
        "green"
       ]
      }
     },
     "9e0914d814114f488f93c8cb91224b53": {
      "model_module": "jupyter-scales",
      "model_module_version": "^1.0.0",
      "model_name": "ColorBarModel",
      "state": {
       "_model_module_version": "^1.0.0",
       "_view_module_version": "^1.0.0",
       "colormap": "IPY_MODEL_6e0cd053b9744711ae843b6cddc886d1",
       "layout": "IPY_MODEL_f0c6e94464c141b29cbc352153300e93",
       "length": 300,
       "orientation": "horizontal"
      }
     },
     "edf1e2a530f74192a824fb5f11f3b262": {
      "model_module": "@jupyter-widgets/base",
      "model_module_version": "1.1.0",
      "model_name": "LayoutModel",
      "state": {}
     },
     "f0c6e94464c141b29cbc352153300e93": {
      "model_module": "@jupyter-widgets/base",
      "model_module_version": "1.1.0",
      "model_name": "LayoutModel",
      "state": {}
     }
    },
    "version_major": 2,
    "version_minor": 0
   }
  }
 },
 "nbformat": 4,
 "nbformat_minor": 2
}
