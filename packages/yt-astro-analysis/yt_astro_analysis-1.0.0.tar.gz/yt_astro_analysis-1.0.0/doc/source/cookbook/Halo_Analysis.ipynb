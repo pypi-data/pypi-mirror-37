{
 "cells": [
  {
   "cell_type": "markdown",
   "metadata": {},
   "source": [
    "# Full Halo Analysis"
   ]
  },
  {
   "cell_type": "markdown",
   "metadata": {},
   "source": [
    "### Creating a Catalog"
   ]
  },
  {
   "cell_type": "markdown",
   "metadata": {},
   "source": [
    "Here we put everything together to perform some realistic analysis. First we load a full simulation dataset."
   ]
  },
  {
   "cell_type": "code",
   "execution_count": 1,
   "metadata": {
    "collapsed": false
   },
   "outputs": [
    {
     "name": "stderr",
     "output_type": "stream",
     "text": [
      "yt : [INFO     ] 2017-08-10 16:18:30,826 Parameters: current_time              = 646.75066015177\n",
      "yt : [INFO     ] 2017-08-10 16:18:30,826 Parameters: domain_dimensions         = [64 64 64]\n",
      "yt : [INFO     ] 2017-08-10 16:18:30,827 Parameters: domain_left_edge          = [ 0.  0.  0.]\n",
      "yt : [INFO     ] 2017-08-10 16:18:30,829 Parameters: domain_right_edge         = [ 1.  1.  1.]\n",
      "yt : [INFO     ] 2017-08-10 16:18:30,830 Parameters: cosmological_simulation   = 1\n",
      "yt : [INFO     ] 2017-08-10 16:18:30,830 Parameters: current_redshift          = 0\n",
      "yt : [INFO     ] 2017-08-10 16:18:30,831 Parameters: omega_lambda              = 0.7\n",
      "yt : [INFO     ] 2017-08-10 16:18:30,831 Parameters: omega_matter              = 0.3\n",
      "yt : [INFO     ] 2017-08-10 16:18:30,832 Parameters: hubble_constant           = 0.71\n"
     ]
    }
   ],
   "source": [
    "import yt\n",
    "from yt.extensions.astro_analysis.halo_analysis.api import *\n",
    "import tempfile\n",
    "import shutil\n",
    "import os\n",
    "\n",
    "# Create temporary directory for storing files\n",
    "tmpdir = tempfile.mkdtemp()\n",
    "\n",
    "# Load the data set with the full simulation information\n",
    "data_ds = yt.load('Enzo_64/RD0006/RedshiftOutput0006')"
   ]
  },
  {
   "cell_type": "markdown",
   "metadata": {},
   "source": [
    "Now we load a rockstar halos binary file. This is the output from running the rockstar halo finder on the dataset loaded above. It is also possible to require the HaloCatalog to find the halos in the full simulation dataset at runtime by specifying a `finder_method` keyword."
   ]
  },
  {
   "cell_type": "code",
   "execution_count": 2,
   "metadata": {
    "collapsed": false
   },
   "outputs": [
    {
     "name": "stderr",
     "output_type": "stream",
     "text": [
      "yt : [INFO     ] 2017-08-10 16:18:33,351 Parameters: current_time              = 4.183955192777767e+17 s\n",
      "yt : [INFO     ] 2017-08-10 16:18:33,351 Parameters: domain_dimensions         = [2 2 2]\n",
      "yt : [INFO     ] 2017-08-10 16:18:33,353 Parameters: domain_left_edge          = [ 0.  0.  0.]\n",
      "yt : [INFO     ] 2017-08-10 16:18:33,353 Parameters: domain_right_edge         = [ 128.  128.  128.]\n",
      "yt : [INFO     ] 2017-08-10 16:18:33,355 Parameters: cosmological_simulation   = 1\n",
      "yt : [INFO     ] 2017-08-10 16:18:33,355 Parameters: current_redshift          = 0.0013931104659006266\n",
      "yt : [INFO     ] 2017-08-10 16:18:33,356 Parameters: omega_lambda              = 0.699999988079071\n",
      "yt : [INFO     ] 2017-08-10 16:18:33,357 Parameters: omega_matter              = 0.30000001192092896\n",
      "yt : [INFO     ] 2017-08-10 16:18:33,358 Parameters: hubble_constant           = 0.7099999785423279\n"
     ]
    }
   ],
   "source": [
    "# Load the rockstar data files\n",
    "halos_ds = yt.load('rockstar_halos/halos_0.0.bin')"
   ]
  },
  {
   "cell_type": "markdown",
   "metadata": {},
   "source": [
    "From these two loaded datasets we create a halo catalog object. No analysis is done at this point, we are simply defining an object we can add analysis tasks to. These analysis tasks will be run in the order they are added to the halo catalog object."
   ]
  },
  {
   "cell_type": "code",
   "execution_count": 3,
   "metadata": {
    "collapsed": false
   },
   "outputs": [
    {
     "name": "stderr",
     "output_type": "stream",
     "text": [
      "yt : [INFO     ] 2017-08-10 16:18:35,348 Allocating for 2.960e+02 particles (index particle type 'all')\n",
      "yt : [INFO     ] 2017-08-10 16:18:35,355 Identified 8.100e+01 octs\n"
     ]
    }
   ],
   "source": [
    "# Instantiate a catalog using those two parameter files\n",
    "hc = HaloCatalog(data_ds=data_ds, halos_ds=halos_ds, \n",
    "                 output_dir=os.path.join(tmpdir, 'halo_catalog'))"
   ]
  },
  {
   "cell_type": "markdown",
   "metadata": {},
   "source": [
    "The first analysis task we add is a filter for the most massive halos; those with masses great than $10^{14}~M_\\odot$. Note that all following analysis will only be performed on these massive halos and we will not waste computational time calculating quantities for halos we are not interested in. This is a result of adding this filter first. If we had called `add_filter` after some other `add_quantity` or `add_callback` to the halo catalog, the quantity and callback calculations would have been performed for all halos, not just those which pass the filter."
   ]
  },
  {
   "cell_type": "code",
   "execution_count": 4,
   "metadata": {
    "collapsed": true
   },
   "outputs": [],
   "source": [
    "# Filter out less massive halos\n",
    "hc.add_filter(\"quantity_value\", \"particle_mass\", \">\", 1e14, \"Msun\")"
   ]
  },
  {
   "cell_type": "markdown",
   "metadata": {},
   "source": [
    "### Finding Radial Profiles"
   ]
  },
  {
   "cell_type": "markdown",
   "metadata": {},
   "source": [
    "Our first analysis goal is going to be constructing radial profiles for our halos. We would like these profiles to be in terms of the virial radius. Unfortunately we have no guarantee that values of center and virial radius recorded by the halo finder are actually physical. Therefore we should recalculate these quantities ourselves using the values recorded by the halo finder as a starting point."
   ]
  },
  {
   "cell_type": "markdown",
   "metadata": {},
   "source": [
    "The first step is going to be creating a sphere object that we will create radial profiles along. This attaches a sphere data object to every halo left in the catalog."
   ]
  },
  {
   "cell_type": "code",
   "execution_count": 5,
   "metadata": {
    "collapsed": false
   },
   "outputs": [],
   "source": [
    "# attach a sphere object to each halo whose radius extends to twice the radius of the halo\n",
    "hc.add_callback(\"sphere\", factor=2.0)"
   ]
  },
  {
   "cell_type": "markdown",
   "metadata": {},
   "source": [
    "Next we find the radial profile of the gas overdensity along the sphere object in order to find the virial radius. `radius` is the axis along which we make bins for the radial profiles. `[(\"gas\",\"overdensity\")]` is the quantity that we are profiling. This is a list so we can profile as many quantities as we want. The `weight_field` indicates how the cells should be weighted, but note that this is not a list, so all quantities will be weighted in the same way. The `accumulation` keyword indicates if the profile should be cummulative; this is useful for calculating profiles such as enclosed mass. The `storage` keyword indicates the name of the attribute of a halo where these profiles will be stored. Setting the storage keyword to \"virial_quantities_profiles\" means that the profiles will be stored in a dictionary that can be accessed by `halo.virial_quantities_profiles`."
   ]
  },
  {
   "cell_type": "code",
   "execution_count": 6,
   "metadata": {
    "collapsed": false
   },
   "outputs": [],
   "source": [
    "# use the sphere to calculate radial profiles of gas density weighted by cell volume in terms of the virial radius\n",
    "hc.add_callback(\"profile\", [\"radius\"],\n",
    "                [(\"gas\", \"overdensity\")],\n",
    "                weight_field=\"cell_volume\", \n",
    "                accumulation=True,\n",
    "                storage=\"virial_quantities_profiles\")"
   ]
  },
  {
   "cell_type": "markdown",
   "metadata": {},
   "source": [
    "Now we calculate the virial radius of halo using the sphere object. As this is a callback, not a quantity, the virial radius will not be written out with the rest of the halo properties in the final halo catalog. This also has a `profile_storage` keyword to specify where the radial profiles are stored that will allow the callback to calculate the relevant virial quantities. We supply this keyword with the same string we gave to `storage` in the last `profile` callback."
   ]
  },
  {
   "cell_type": "code",
   "execution_count": 7,
   "metadata": {
    "collapsed": false
   },
   "outputs": [],
   "source": [
    "# Define a virial radius for the halo.\n",
    "hc.add_callback(\"virial_quantities\", [\"radius\"], \n",
    "                profile_storage = \"virial_quantities_profiles\")"
   ]
  },
  {
   "cell_type": "markdown",
   "metadata": {},
   "source": [
    "Now that we have calculated the virial radius, we delete the profiles we used to find it."
   ]
  },
  {
   "cell_type": "code",
   "execution_count": 8,
   "metadata": {
    "collapsed": false
   },
   "outputs": [],
   "source": [
    "hc.add_callback('delete_attribute','virial_quantities_profiles')"
   ]
  },
  {
   "cell_type": "markdown",
   "metadata": {},
   "source": [
    "Now that we have calculated virial quantities we can add a new sphere that is aware of the virial radius we calculated above."
   ]
  },
  {
   "cell_type": "code",
   "execution_count": 9,
   "metadata": {
    "collapsed": false
   },
   "outputs": [],
   "source": [
    "hc.add_callback('sphere', radius_field='radius_200', factor=5,\n",
    "                field_parameters=dict(virial_radius=('quantity', 'radius_200')))"
   ]
  },
  {
   "cell_type": "markdown",
   "metadata": {},
   "source": [
    "Using this new sphere, we calculate a gas temperature profile along the virial radius, weighted by the cell mass."
   ]
  },
  {
   "cell_type": "code",
   "execution_count": 10,
   "metadata": {
    "collapsed": false
   },
   "outputs": [],
   "source": [
    "hc.add_callback('profile', 'virial_radius_fraction', [('gas','temperature')],\n",
    "                storage='virial_profiles',\n",
    "                weight_field='cell_mass', \n",
    "                accumulation=False, output_dir='profiles')\n"
   ]
  },
  {
   "cell_type": "markdown",
   "metadata": {},
   "source": [
    "As profiles are not quantities they will not automatically be written out in the halo catalog; thus in order to be reloadable we must write them out explicitly through a callback of `save_profiles`. This makes sense because they have an extra dimension for each halo along the profile axis. "
   ]
  },
  {
   "cell_type": "code",
   "execution_count": 11,
   "metadata": {
    "collapsed": false
   },
   "outputs": [],
   "source": [
    "# Save the profiles\n",
    "hc.add_callback(\"save_profiles\", storage=\"virial_profiles\", output_dir=\"profiles\")"
   ]
  },
  {
   "cell_type": "markdown",
   "metadata": {},
   "source": [
    "We then create the halo catalog. Remember, no analysis is done before this call to create. By adding callbacks and filters we are simply queuing up the actions we want to take that will all run now."
   ]
  },
  {
   "cell_type": "code",
   "execution_count": 12,
   "metadata": {
    "collapsed": false
   },
   "outputs": [
    {
     "name": "stderr",
     "output_type": "stream",
     "text": [
      "Parsing Hierarchy : 100%|██████████| 749/749 [00:00<00:00, 32681.41it/s]\n",
      "yt : [INFO     ] 2017-08-10 16:18:48,122 Gathering a field list (this may take a moment.)\n",
      "yt : [INFO     ] 2017-08-10 16:18:48,985 Calculating 1D profile for halo 0.\n",
      "/Users/britton/Documents/work/yt/extensions/yt_astro_analysis/yt_astro_analysis/halo_analysis/halo_callbacks.py:247: VisibleDeprecationWarning: \n",
      "profile.variance incorrectly returns the profile standard deviation and has \n",
      "been deprecated, use profile.standard_deviation instead.\n",
      "  if hasattr(my_profile, \"variance\"):\n",
      "/Users/britton/Documents/work/yt/extensions/yt_astro_analysis/yt_astro_analysis/halo_analysis/halo_callbacks.py:249: VisibleDeprecationWarning: \n",
      "profile.variance incorrectly returns the profile standard deviation and has \n",
      "been deprecated, use profile.standard_deviation instead.\n",
      "  for field in my_profile.variance])\n",
      "yt : [INFO     ] 2017-08-10 16:18:49,016 Calculating virial quantities for halo 0.\n",
      "yt : [INFO     ] 2017-08-10 16:18:49,018 Calculating 1D profile for halo 0.\n",
      "yt : [INFO     ] 2017-08-10 16:18:49,045 Saving halo 0 profile data to /var/folders/s_/syw8wdg56xv93gcyhzl4h3q40000gn/T/tmpy9yix3ks/halo_catalog/profiles/virial_profiles_000000.h5.\n",
      "yt : [INFO     ] 2017-08-10 16:18:49,050 Calculating 1D profile for halo 2.\n",
      "yt : [INFO     ] 2017-08-10 16:18:49,073 Calculating virial quantities for halo 2.\n",
      "yt : [INFO     ] 2017-08-10 16:18:49,074 Calculating 1D profile for halo 2.\n",
      "yt : [INFO     ] 2017-08-10 16:18:49,102 Saving halo 2 profile data to /var/folders/s_/syw8wdg56xv93gcyhzl4h3q40000gn/T/tmpy9yix3ks/halo_catalog/profiles/virial_profiles_000002.h5.\n",
      "yt : [INFO     ] 2017-08-10 16:18:49,107 Calculating 1D profile for halo 5.\n",
      "yt : [INFO     ] 2017-08-10 16:18:49,125 Calculating virial quantities for halo 5.\n",
      "yt : [INFO     ] 2017-08-10 16:18:49,127 Calculating 1D profile for halo 5.\n",
      "yt : [INFO     ] 2017-08-10 16:18:49,170 Saving halo 5 profile data to /var/folders/s_/syw8wdg56xv93gcyhzl4h3q40000gn/T/tmpy9yix3ks/halo_catalog/profiles/virial_profiles_000005.h5.\n",
      "yt : [INFO     ] 2017-08-10 16:18:49,174 Calculating 1D profile for halo 6.\n",
      "yt : [INFO     ] 2017-08-10 16:18:49,214 Calculating virial quantities for halo 6.\n",
      "yt : [INFO     ] 2017-08-10 16:18:49,216 Calculating 1D profile for halo 6.\n",
      "yt : [INFO     ] 2017-08-10 16:18:49,260 Saving halo 6 profile data to /var/folders/s_/syw8wdg56xv93gcyhzl4h3q40000gn/T/tmpy9yix3ks/halo_catalog/profiles/virial_profiles_000006.h5.\n",
      "yt : [INFO     ] 2017-08-10 16:18:49,264 Calculating 1D profile for halo 7.\n",
      "yt : [INFO     ] 2017-08-10 16:18:49,285 Calculating virial quantities for halo 7.\n",
      "yt : [INFO     ] 2017-08-10 16:18:49,287 Calculating 1D profile for halo 7.\n",
      "yt : [INFO     ] 2017-08-10 16:18:49,324 Saving halo 7 profile data to /var/folders/s_/syw8wdg56xv93gcyhzl4h3q40000gn/T/tmpy9yix3ks/halo_catalog/profiles/virial_profiles_000007.h5.\n",
      "yt : [INFO     ] 2017-08-10 16:18:49,329 Calculating 1D profile for halo 9.\n",
      "yt : [INFO     ] 2017-08-10 16:18:49,362 Calculating virial quantities for halo 9.\n",
      "yt : [INFO     ] 2017-08-10 16:18:49,364 Calculating 1D profile for halo 9.\n",
      "yt : [INFO     ] 2017-08-10 16:18:49,396 Saving halo 9 profile data to /var/folders/s_/syw8wdg56xv93gcyhzl4h3q40000gn/T/tmpy9yix3ks/halo_catalog/profiles/virial_profiles_000009.h5.\n",
      "yt : [INFO     ] 2017-08-10 16:18:49,400 Calculating 1D profile for halo 10.\n",
      "yt : [INFO     ] 2017-08-10 16:18:49,428 Calculating virial quantities for halo 10.\n",
      "yt : [INFO     ] 2017-08-10 16:18:49,430 Calculating 1D profile for halo 10.\n",
      "yt : [INFO     ] 2017-08-10 16:18:49,471 Saving halo 10 profile data to /var/folders/s_/syw8wdg56xv93gcyhzl4h3q40000gn/T/tmpy9yix3ks/halo_catalog/profiles/virial_profiles_000010.h5.\n",
      "yt : [INFO     ] 2017-08-10 16:18:49,476 Calculating 1D profile for halo 13.\n",
      "yt : [INFO     ] 2017-08-10 16:18:49,505 Calculating virial quantities for halo 13.\n",
      "yt : [INFO     ] 2017-08-10 16:18:49,507 Calculating 1D profile for halo 13.\n",
      "yt : [INFO     ] 2017-08-10 16:18:49,537 Saving halo 13 profile data to /var/folders/s_/syw8wdg56xv93gcyhzl4h3q40000gn/T/tmpy9yix3ks/halo_catalog/profiles/virial_profiles_000013.h5.\n",
      "yt : [INFO     ] 2017-08-10 16:18:49,542 Calculating 1D profile for halo 18.\n",
      "yt : [INFO     ] 2017-08-10 16:18:49,558 Calculating virial quantities for halo 18.\n",
      "yt : [INFO     ] 2017-08-10 16:18:49,560 Calculating 1D profile for halo 18.\n",
      "yt : [INFO     ] 2017-08-10 16:18:49,576 Saving halo 18 profile data to /var/folders/s_/syw8wdg56xv93gcyhzl4h3q40000gn/T/tmpy9yix3ks/halo_catalog/profiles/virial_profiles_000018.h5.\n",
      "yt : [INFO     ] 2017-08-10 16:18:49,581 Calculating 1D profile for halo 19.\n",
      "yt : [INFO     ] 2017-08-10 16:18:49,612 Calculating virial quantities for halo 19.\n",
      "yt : [INFO     ] 2017-08-10 16:18:49,613 Calculating 1D profile for halo 19.\n",
      "yt : [INFO     ] 2017-08-10 16:18:49,647 Saving halo 19 profile data to /var/folders/s_/syw8wdg56xv93gcyhzl4h3q40000gn/T/tmpy9yix3ks/halo_catalog/profiles/virial_profiles_000019.h5.\n",
      "yt : [INFO     ] 2017-08-10 16:18:49,652 Calculating 1D profile for halo 22.\n",
      "yt : [INFO     ] 2017-08-10 16:18:49,682 Calculating virial quantities for halo 22.\n",
      "yt : [INFO     ] 2017-08-10 16:18:49,684 Calculating 1D profile for halo 22.\n",
      "yt : [INFO     ] 2017-08-10 16:18:49,717 Saving halo 22 profile data to /var/folders/s_/syw8wdg56xv93gcyhzl4h3q40000gn/T/tmpy9yix3ks/halo_catalog/profiles/virial_profiles_000022.h5.\n",
      "yt : [INFO     ] 2017-08-10 16:18:49,722 Calculating 1D profile for halo 23.\n",
      "yt : [INFO     ] 2017-08-10 16:18:49,750 Calculating virial quantities for halo 23.\n",
      "yt : [INFO     ] 2017-08-10 16:18:49,752 Calculating 1D profile for halo 23.\n",
      "yt : [INFO     ] 2017-08-10 16:18:49,785 Saving halo 23 profile data to /var/folders/s_/syw8wdg56xv93gcyhzl4h3q40000gn/T/tmpy9yix3ks/halo_catalog/profiles/virial_profiles_000023.h5.\n",
      "yt : [INFO     ] 2017-08-10 16:18:49,790 Calculating 1D profile for halo 24.\n",
      "yt : [INFO     ] 2017-08-10 16:18:49,808 Calculating virial quantities for halo 24.\n",
      "yt : [INFO     ] 2017-08-10 16:18:49,810 Calculating 1D profile for halo 24.\n",
      "yt : [INFO     ] 2017-08-10 16:18:49,840 Saving halo 24 profile data to /var/folders/s_/syw8wdg56xv93gcyhzl4h3q40000gn/T/tmpy9yix3ks/halo_catalog/profiles/virial_profiles_000024.h5.\n",
      "yt : [INFO     ] 2017-08-10 16:18:49,844 Calculating 1D profile for halo 27.\n",
      "yt : [INFO     ] 2017-08-10 16:18:49,860 Calculating virial quantities for halo 27.\n",
      "yt : [INFO     ] 2017-08-10 16:18:49,862 Calculating 1D profile for halo 27.\n",
      "yt : [INFO     ] 2017-08-10 16:18:49,878 Saving halo 27 profile data to /var/folders/s_/syw8wdg56xv93gcyhzl4h3q40000gn/T/tmpy9yix3ks/halo_catalog/profiles/virial_profiles_000027.h5.\n",
      "yt : [INFO     ] 2017-08-10 16:18:49,883 Calculating 1D profile for halo 29.\n",
      "yt : [INFO     ] 2017-08-10 16:18:49,898 Calculating virial quantities for halo 29.\n",
      "yt : [INFO     ] 2017-08-10 16:18:49,900 Calculating 1D profile for halo 29.\n",
      "yt : [INFO     ] 2017-08-10 16:18:49,924 Saving halo 29 profile data to /var/folders/s_/syw8wdg56xv93gcyhzl4h3q40000gn/T/tmpy9yix3ks/halo_catalog/profiles/virial_profiles_000029.h5.\n",
      "yt : [INFO     ] 2017-08-10 16:18:49,929 Calculating 1D profile for halo 30.\n",
      "yt : [INFO     ] 2017-08-10 16:18:49,955 Calculating virial quantities for halo 30.\n",
      "yt : [INFO     ] 2017-08-10 16:18:49,957 Calculating 1D profile for halo 30.\n",
      "yt : [INFO     ] 2017-08-10 16:18:49,986 Saving halo 30 profile data to /var/folders/s_/syw8wdg56xv93gcyhzl4h3q40000gn/T/tmpy9yix3ks/halo_catalog/profiles/virial_profiles_000030.h5.\n",
      "yt : [INFO     ] 2017-08-10 16:18:49,991 Calculating 1D profile for halo 31.\n",
      "yt : [INFO     ] 2017-08-10 16:18:50,012 Calculating virial quantities for halo 31.\n",
      "yt : [INFO     ] 2017-08-10 16:18:50,014 Calculating 1D profile for halo 31.\n",
      "yt : [INFO     ] 2017-08-10 16:18:50,042 Saving halo 31 profile data to /var/folders/s_/syw8wdg56xv93gcyhzl4h3q40000gn/T/tmpy9yix3ks/halo_catalog/profiles/virial_profiles_000031.h5.\n",
      "yt : [INFO     ] 2017-08-10 16:18:50,047 Calculating 1D profile for halo 32.\n",
      "yt : [INFO     ] 2017-08-10 16:18:50,066 Calculating virial quantities for halo 32.\n",
      "yt : [INFO     ] 2017-08-10 16:18:50,068 Calculating 1D profile for halo 32.\n",
      "yt : [INFO     ] 2017-08-10 16:18:50,091 Saving halo 32 profile data to /var/folders/s_/syw8wdg56xv93gcyhzl4h3q40000gn/T/tmpy9yix3ks/halo_catalog/profiles/virial_profiles_000032.h5.\n",
      "yt : [INFO     ] 2017-08-10 16:18:50,095 Calculating 1D profile for halo 33.\n",
      "yt : [INFO     ] 2017-08-10 16:18:50,122 Calculating virial quantities for halo 33.\n",
      "yt : [INFO     ] 2017-08-10 16:18:50,124 Calculating 1D profile for halo 33.\n",
      "yt : [INFO     ] 2017-08-10 16:18:50,158 Saving halo 33 profile data to /var/folders/s_/syw8wdg56xv93gcyhzl4h3q40000gn/T/tmpy9yix3ks/halo_catalog/profiles/virial_profiles_000033.h5.\n",
      "yt : [INFO     ] 2017-08-10 16:18:50,162 Calculating 1D profile for halo 34.\n",
      "yt : [INFO     ] 2017-08-10 16:18:50,176 Calculating virial quantities for halo 34.\n",
      "yt : [INFO     ] 2017-08-10 16:18:50,178 Calculating 1D profile for halo 34.\n",
      "yt : [INFO     ] 2017-08-10 16:18:50,207 Saving halo 34 profile data to /var/folders/s_/syw8wdg56xv93gcyhzl4h3q40000gn/T/tmpy9yix3ks/halo_catalog/profiles/virial_profiles_000034.h5.\n",
      "yt : [INFO     ] 2017-08-10 16:18:50,211 Calculating 1D profile for halo 37.\n",
      "yt : [INFO     ] 2017-08-10 16:18:50,226 Calculating virial quantities for halo 37.\n",
      "yt : [INFO     ] 2017-08-10 16:18:50,228 Calculating 1D profile for halo 37.\n",
      "yt : [INFO     ] 2017-08-10 16:18:50,246 Saving halo 37 profile data to /var/folders/s_/syw8wdg56xv93gcyhzl4h3q40000gn/T/tmpy9yix3ks/halo_catalog/profiles/virial_profiles_000037.h5.\n",
      "yt : [INFO     ] 2017-08-10 16:18:50,250 Calculating 1D profile for halo 41.\n",
      "yt : [INFO     ] 2017-08-10 16:18:50,266 Calculating virial quantities for halo 41.\n",
      "yt : [INFO     ] 2017-08-10 16:18:50,269 Calculating 1D profile for halo 41.\n",
      "yt : [INFO     ] 2017-08-10 16:18:50,307 Saving halo 41 profile data to /var/folders/s_/syw8wdg56xv93gcyhzl4h3q40000gn/T/tmpy9yix3ks/halo_catalog/profiles/virial_profiles_000041.h5.\n",
      "yt : [INFO     ] 2017-08-10 16:18:50,311 Calculating 1D profile for halo 42.\n",
      "yt : [INFO     ] 2017-08-10 16:18:50,335 Calculating virial quantities for halo 42.\n",
      "yt : [INFO     ] 2017-08-10 16:18:50,337 Calculating 1D profile for halo 42.\n",
      "yt : [INFO     ] 2017-08-10 16:18:50,373 Saving halo 42 profile data to /var/folders/s_/syw8wdg56xv93gcyhzl4h3q40000gn/T/tmpy9yix3ks/halo_catalog/profiles/virial_profiles_000042.h5.\n",
      "yt : [INFO     ] 2017-08-10 16:18:50,377 Calculating 1D profile for halo 43.\n",
      "yt : [INFO     ] 2017-08-10 16:18:50,399 Calculating virial quantities for halo 43.\n",
      "yt : [INFO     ] 2017-08-10 16:18:50,401 Calculating 1D profile for halo 43.\n",
      "yt : [INFO     ] 2017-08-10 16:18:50,443 Saving halo 43 profile data to /var/folders/s_/syw8wdg56xv93gcyhzl4h3q40000gn/T/tmpy9yix3ks/halo_catalog/profiles/virial_profiles_000043.h5.\n",
      "yt : [INFO     ] 2017-08-10 16:18:50,447 Calculating 1D profile for halo 44.\n",
      "yt : [INFO     ] 2017-08-10 16:18:50,469 Calculating virial quantities for halo 44.\n",
      "yt : [INFO     ] 2017-08-10 16:18:50,470 Calculating 1D profile for halo 44.\n",
      "yt : [INFO     ] 2017-08-10 16:18:50,496 Saving halo 44 profile data to /var/folders/s_/syw8wdg56xv93gcyhzl4h3q40000gn/T/tmpy9yix3ks/halo_catalog/profiles/virial_profiles_000044.h5.\n",
      "yt : [INFO     ] 2017-08-10 16:18:50,501 Calculating 1D profile for halo 46.\n",
      "yt : [INFO     ] 2017-08-10 16:18:50,521 Calculating virial quantities for halo 46.\n",
      "yt : [INFO     ] 2017-08-10 16:18:50,523 Calculating 1D profile for halo 46.\n",
      "yt : [INFO     ] 2017-08-10 16:18:50,551 Saving halo 46 profile data to /var/folders/s_/syw8wdg56xv93gcyhzl4h3q40000gn/T/tmpy9yix3ks/halo_catalog/profiles/virial_profiles_000046.h5.\n",
      "yt : [INFO     ] 2017-08-10 16:18:50,556 Calculating 1D profile for halo 52.\n",
      "yt : [INFO     ] 2017-08-10 16:18:50,580 Calculating virial quantities for halo 52.\n",
      "yt : [INFO     ] 2017-08-10 16:18:50,582 Calculating 1D profile for halo 52.\n",
      "yt : [INFO     ] 2017-08-10 16:18:50,609 Saving halo 52 profile data to /var/folders/s_/syw8wdg56xv93gcyhzl4h3q40000gn/T/tmpy9yix3ks/halo_catalog/profiles/virial_profiles_000052.h5.\n",
      "yt : [INFO     ] 2017-08-10 16:18:50,627 Calculating 1D profile for halo 161.\n",
      "yt : [INFO     ] 2017-08-10 16:18:50,675 Calculating virial quantities for halo 161.\n",
      "yt : [INFO     ] 2017-08-10 16:18:50,677 Calculating 1D profile for halo 161.\n",
      "yt : [INFO     ] 2017-08-10 16:18:50,774 Saving halo 161 profile data to /var/folders/s_/syw8wdg56xv93gcyhzl4h3q40000gn/T/tmpy9yix3ks/halo_catalog/profiles/virial_profiles_000161.h5.\n",
      "yt : [INFO     ] 2017-08-10 16:18:50,779 Calculating 1D profile for halo 162.\n",
      "yt : [INFO     ] 2017-08-10 16:18:50,806 Calculating virial quantities for halo 162.\n",
      "yt : [INFO     ] 2017-08-10 16:18:50,807 Calculating 1D profile for halo 162.\n",
      "yt : [INFO     ] 2017-08-10 16:18:50,867 Saving halo 162 profile data to /var/folders/s_/syw8wdg56xv93gcyhzl4h3q40000gn/T/tmpy9yix3ks/halo_catalog/profiles/virial_profiles_000162.h5.\n",
      "yt : [INFO     ] 2017-08-10 16:18:50,871 Calculating 1D profile for halo 165.\n",
      "yt : [INFO     ] 2017-08-10 16:18:50,900 Calculating virial quantities for halo 165.\n",
      "yt : [INFO     ] 2017-08-10 16:18:50,901 Calculating 1D profile for halo 165.\n",
      "yt : [INFO     ] 2017-08-10 16:18:50,939 Saving halo 165 profile data to /var/folders/s_/syw8wdg56xv93gcyhzl4h3q40000gn/T/tmpy9yix3ks/halo_catalog/profiles/virial_profiles_000165.h5.\n",
      "yt : [INFO     ] 2017-08-10 16:18:50,943 Calculating 1D profile for halo 167.\n",
      "yt : [INFO     ] 2017-08-10 16:18:50,975 Calculating virial quantities for halo 167.\n",
      "yt : [INFO     ] 2017-08-10 16:18:50,977 Calculating 1D profile for halo 167.\n",
      "yt : [INFO     ] 2017-08-10 16:18:51,010 Saving halo 167 profile data to /var/folders/s_/syw8wdg56xv93gcyhzl4h3q40000gn/T/tmpy9yix3ks/halo_catalog/profiles/virial_profiles_000167.h5.\n",
      "yt : [INFO     ] 2017-08-10 16:18:51,015 Calculating 1D profile for halo 171.\n",
      "yt : [INFO     ] 2017-08-10 16:18:51,040 Calculating virial quantities for halo 171.\n",
      "yt : [INFO     ] 2017-08-10 16:18:51,042 Calculating 1D profile for halo 171.\n",
      "yt : [INFO     ] 2017-08-10 16:18:51,078 Saving halo 171 profile data to /var/folders/s_/syw8wdg56xv93gcyhzl4h3q40000gn/T/tmpy9yix3ks/halo_catalog/profiles/virial_profiles_000171.h5.\n",
      "yt : [INFO     ] 2017-08-10 16:18:51,083 Calculating 1D profile for halo 173.\n",
      "yt : [INFO     ] 2017-08-10 16:18:51,103 Calculating virial quantities for halo 173.\n",
      "yt : [INFO     ] 2017-08-10 16:18:51,105 Calculating 1D profile for halo 173.\n",
      "yt : [INFO     ] 2017-08-10 16:18:51,154 Saving halo 173 profile data to /var/folders/s_/syw8wdg56xv93gcyhzl4h3q40000gn/T/tmpy9yix3ks/halo_catalog/profiles/virial_profiles_000173.h5.\n",
      "yt : [INFO     ] 2017-08-10 16:18:51,158 Calculating 1D profile for halo 174.\n",
      "yt : [INFO     ] 2017-08-10 16:18:51,180 Calculating virial quantities for halo 174.\n",
      "yt : [INFO     ] 2017-08-10 16:18:51,182 Calculating 1D profile for halo 174.\n",
      "yt : [INFO     ] 2017-08-10 16:18:51,200 Saving halo 174 profile data to /var/folders/s_/syw8wdg56xv93gcyhzl4h3q40000gn/T/tmpy9yix3ks/halo_catalog/profiles/virial_profiles_000174.h5.\n",
      "yt : [INFO     ] 2017-08-10 16:18:51,205 Calculating 1D profile for halo 175.\n",
      "yt : [INFO     ] 2017-08-10 16:18:51,231 Calculating virial quantities for halo 175.\n",
      "yt : [INFO     ] 2017-08-10 16:18:51,233 Calculating 1D profile for halo 175.\n",
      "yt : [INFO     ] 2017-08-10 16:18:51,263 Saving halo 175 profile data to /var/folders/s_/syw8wdg56xv93gcyhzl4h3q40000gn/T/tmpy9yix3ks/halo_catalog/profiles/virial_profiles_000175.h5.\n",
      "yt : [INFO     ] 2017-08-10 16:18:51,268 Calculating 1D profile for halo 176.\n",
      "yt : [INFO     ] 2017-08-10 16:18:51,286 Calculating virial quantities for halo 176.\n",
      "yt : [INFO     ] 2017-08-10 16:18:51,288 Calculating 1D profile for halo 176.\n",
      "yt : [INFO     ] 2017-08-10 16:18:51,305 Saving halo 176 profile data to /var/folders/s_/syw8wdg56xv93gcyhzl4h3q40000gn/T/tmpy9yix3ks/halo_catalog/profiles/virial_profiles_000176.h5.\n",
      "yt : [INFO     ] 2017-08-10 16:18:51,310 Calculating 1D profile for halo 177.\n",
      "yt : [INFO     ] 2017-08-10 16:18:51,324 Calculating virial quantities for halo 177.\n",
      "yt : [INFO     ] 2017-08-10 16:18:51,326 Calculating 1D profile for halo 177.\n",
      "yt : [INFO     ] 2017-08-10 16:18:51,349 Saving halo 177 profile data to /var/folders/s_/syw8wdg56xv93gcyhzl4h3q40000gn/T/tmpy9yix3ks/halo_catalog/profiles/virial_profiles_000177.h5.\n",
      "yt : [INFO     ] 2017-08-10 16:18:51,354 Calculating 1D profile for halo 180.\n",
      "yt : [INFO     ] 2017-08-10 16:18:51,371 Calculating virial quantities for halo 180.\n",
      "yt : [INFO     ] 2017-08-10 16:18:51,373 Calculating 1D profile for halo 180.\n",
      "yt : [INFO     ] 2017-08-10 16:18:51,401 Saving halo 180 profile data to /var/folders/s_/syw8wdg56xv93gcyhzl4h3q40000gn/T/tmpy9yix3ks/halo_catalog/profiles/virial_profiles_000180.h5.\n",
      "yt : [INFO     ] 2017-08-10 16:18:51,407 Calculating 1D profile for halo 183.\n",
      "yt : [INFO     ] 2017-08-10 16:18:51,420 Calculating virial quantities for halo 183.\n",
      "yt : [INFO     ] 2017-08-10 16:18:51,422 Calculating 1D profile for halo 183.\n",
      "yt : [INFO     ] 2017-08-10 16:18:51,449 Saving halo 183 profile data to /var/folders/s_/syw8wdg56xv93gcyhzl4h3q40000gn/T/tmpy9yix3ks/halo_catalog/profiles/virial_profiles_000183.h5.\n",
      "yt : [INFO     ] 2017-08-10 16:18:51,453 Calculating 1D profile for halo 184.\n",
      "yt : [INFO     ] 2017-08-10 16:18:51,470 Calculating virial quantities for halo 184.\n",
      "yt : [INFO     ] 2017-08-10 16:18:51,473 Calculating 1D profile for halo 184.\n",
      "yt : [INFO     ] 2017-08-10 16:18:51,490 Saving halo 184 profile data to /var/folders/s_/syw8wdg56xv93gcyhzl4h3q40000gn/T/tmpy9yix3ks/halo_catalog/profiles/virial_profiles_000184.h5.\n",
      "yt : [INFO     ] 2017-08-10 16:18:51,495 Calculating 1D profile for halo 185.\n",
      "yt : [INFO     ] 2017-08-10 16:18:51,517 Calculating virial quantities for halo 185.\n",
      "yt : [INFO     ] 2017-08-10 16:18:51,520 Calculating 1D profile for halo 185.\n",
      "yt : [INFO     ] 2017-08-10 16:18:51,550 Saving halo 185 profile data to /var/folders/s_/syw8wdg56xv93gcyhzl4h3q40000gn/T/tmpy9yix3ks/halo_catalog/profiles/virial_profiles_000185.h5.\n",
      "yt : [INFO     ] 2017-08-10 16:18:51,555 Calculating 1D profile for halo 193.\n",
      "yt : [INFO     ] 2017-08-10 16:18:51,579 Calculating virial quantities for halo 193.\n",
      "yt : [INFO     ] 2017-08-10 16:18:51,581 Calculating 1D profile for halo 193.\n",
      "yt : [INFO     ] 2017-08-10 16:18:51,622 Saving halo 193 profile data to /var/folders/s_/syw8wdg56xv93gcyhzl4h3q40000gn/T/tmpy9yix3ks/halo_catalog/profiles/virial_profiles_000193.h5.\n",
      "yt : [INFO     ] 2017-08-10 16:18:51,626 Calculating 1D profile for halo 194.\n",
      "yt : [INFO     ] 2017-08-10 16:18:51,641 Calculating virial quantities for halo 194.\n",
      "yt : [INFO     ] 2017-08-10 16:18:51,643 Calculating 1D profile for halo 194.\n",
      "yt : [INFO     ] 2017-08-10 16:18:51,667 Saving halo 194 profile data to /var/folders/s_/syw8wdg56xv93gcyhzl4h3q40000gn/T/tmpy9yix3ks/halo_catalog/profiles/virial_profiles_000194.h5.\n",
      "yt : [INFO     ] 2017-08-10 16:18:51,671 Calculating 1D profile for halo 195.\n",
      "yt : [INFO     ] 2017-08-10 16:18:51,689 Calculating virial quantities for halo 195.\n",
      "yt : [INFO     ] 2017-08-10 16:18:51,691 Calculating 1D profile for halo 195.\n",
      "yt : [INFO     ] 2017-08-10 16:18:51,719 Saving halo 195 profile data to /var/folders/s_/syw8wdg56xv93gcyhzl4h3q40000gn/T/tmpy9yix3ks/halo_catalog/profiles/virial_profiles_000195.h5.\n",
      "yt : [INFO     ] 2017-08-10 16:18:51,724 Calculating 1D profile for halo 196.\n",
      "yt : [INFO     ] 2017-08-10 16:18:51,752 Calculating virial quantities for halo 196.\n",
      "yt : [INFO     ] 2017-08-10 16:18:51,754 Calculating 1D profile for halo 196.\n",
      "yt : [INFO     ] 2017-08-10 16:18:51,788 Saving halo 196 profile data to /var/folders/s_/syw8wdg56xv93gcyhzl4h3q40000gn/T/tmpy9yix3ks/halo_catalog/profiles/virial_profiles_000196.h5.\n",
      "yt : [INFO     ] 2017-08-10 16:18:51,792 Calculating 1D profile for halo 197.\n",
      "yt : [INFO     ] 2017-08-10 16:18:51,815 Calculating virial quantities for halo 197.\n",
      "yt : [INFO     ] 2017-08-10 16:18:51,817 Calculating 1D profile for halo 197.\n",
      "yt : [INFO     ] 2017-08-10 16:18:51,848 Saving halo 197 profile data to /var/folders/s_/syw8wdg56xv93gcyhzl4h3q40000gn/T/tmpy9yix3ks/halo_catalog/profiles/virial_profiles_000197.h5.\n",
      "yt : [INFO     ] 2017-08-10 16:18:51,853 Calculating 1D profile for halo 199.\n",
      "yt : [INFO     ] 2017-08-10 16:18:51,875 Calculating virial quantities for halo 199.\n",
      "yt : [INFO     ] 2017-08-10 16:18:51,877 Calculating 1D profile for halo 199.\n",
      "yt : [INFO     ] 2017-08-10 16:18:51,904 Saving halo 199 profile data to /var/folders/s_/syw8wdg56xv93gcyhzl4h3q40000gn/T/tmpy9yix3ks/halo_catalog/profiles/virial_profiles_000199.h5.\n",
      "yt : [INFO     ] 2017-08-10 16:18:51,920 Saving halo catalog (47 halos) to /var/folders/s_/syw8wdg56xv93gcyhzl4h3q40000gn/T/tmpy9yix3ks/halo_catalog/halo_catalog.\n",
      "yt : [INFO     ] 2017-08-10 16:18:51,922 Saving field data to yt dataset: /var/folders/s_/syw8wdg56xv93gcyhzl4h3q40000gn/T/tmpy9yix3ks/halo_catalog/halo_catalog.0.h5.\n"
     ]
    }
   ],
   "source": [
    "hc.create()"
   ]
  },
  {
   "cell_type": "markdown",
   "metadata": {},
   "source": [
    "### Reloading HaloCatalogs"
   ]
  },
  {
   "cell_type": "markdown",
   "metadata": {},
   "source": [
    "Finally we load these profiles back in and make a pretty plot. It is not strictly necessary to reload the profiles in this notebook, but we show this process here to illustrate that this step may be performed completely separately from the rest of the script. This workflow allows you to create a single script that will allow you to perform all of the analysis that requires the full dataset. The output can then be saved in a compact form where only the necessarily halo quantities are stored. You can then download this smaller dataset to a local computer and run any further non-computationally intense analysis and design the appropriate plots."
   ]
  },
  {
   "cell_type": "markdown",
   "metadata": {},
   "source": [
    "We can load a previously saved halo catalog by using the `load` command. We then create a `HaloCatalog` object from just this dataset."
   ]
  },
  {
   "cell_type": "code",
   "execution_count": 13,
   "metadata": {
    "collapsed": false
   },
   "outputs": [
    {
     "name": "stderr",
     "output_type": "stream",
     "text": [
      "yt : [INFO     ] 2017-08-10 16:18:57,145 Parameters: current_time              = 4.183955192777767e+17 s\n",
      "yt : [INFO     ] 2017-08-10 16:18:57,146 Parameters: domain_dimensions         = [2 2 2]\n",
      "yt : [INFO     ] 2017-08-10 16:18:57,147 Parameters: domain_left_edge          = [ 0.  0.  0.] code_length\n",
      "yt : [INFO     ] 2017-08-10 16:18:57,148 Parameters: domain_right_edge         = [ 128.  128.  128.] code_length\n",
      "yt : [INFO     ] 2017-08-10 16:18:57,150 Parameters: cosmological_simulation   = 1\n",
      "yt : [INFO     ] 2017-08-10 16:18:57,150 Parameters: current_redshift          = 0.0013931104659\n",
      "yt : [INFO     ] 2017-08-10 16:18:57,151 Parameters: omega_lambda              = 0.699999988079\n",
      "yt : [INFO     ] 2017-08-10 16:18:57,152 Parameters: omega_matter              = 0.300000011921\n",
      "yt : [INFO     ] 2017-08-10 16:18:57,152 Parameters: hubble_constant           = 0.709999978542\n",
      "yt : [INFO     ] 2017-08-10 16:18:57,159 Allocating for 4.700e+01 particles (index particle type 'all')\n",
      "yt : [INFO     ] 2017-08-10 16:18:57,165 Identified 9.000e+00 octs\n"
     ]
    }
   ],
   "source": [
    "halos_ds =  yt.load(os.path.join(tmpdir, 'halo_catalog/halo_catalog.0.h5'))\n",
    "\n",
    "hc_reloaded = HaloCatalog(halos_ds=halos_ds,\n",
    "                          output_dir=os.path.join(tmpdir, 'halo_catalog'))"
   ]
  },
  {
   "cell_type": "markdown",
   "metadata": {},
   "source": [
    " Just as profiles are saved seperately throught the `save_profiles` callback they also must be loaded separately using the `load_profiles` callback."
   ]
  },
  {
   "cell_type": "code",
   "execution_count": 14,
   "metadata": {
    "collapsed": false
   },
   "outputs": [],
   "source": [
    "hc_reloaded.add_callback('load_profiles', storage='virial_profiles',\n",
    "                         output_dir='profiles')"
   ]
  },
  {
   "cell_type": "markdown",
   "metadata": {},
   "source": [
    "Calling `load` is the equivalent of calling `create` earlier, but defaults to to not saving new information. This means that the callback to `load_profiles` is not run until we call `load` here."
   ]
  },
  {
   "cell_type": "code",
   "execution_count": 16,
   "metadata": {
    "collapsed": false,
    "scrolled": true
   },
   "outputs": [
    {
     "name": "stderr",
     "output_type": "stream",
     "text": [
      "yt : [INFO     ] 2017-08-10 16:19:19,079 Loading halo 0 profile data from /var/folders/s_/syw8wdg56xv93gcyhzl4h3q40000gn/T/tmpy9yix3ks/halo_catalog/profiles/virial_profiles_000000.h5.\n",
      "yt : [INFO     ] 2017-08-10 16:19:19,084 Loading halo 2 profile data from /var/folders/s_/syw8wdg56xv93gcyhzl4h3q40000gn/T/tmpy9yix3ks/halo_catalog/profiles/virial_profiles_000002.h5.\n",
      "yt : [INFO     ] 2017-08-10 16:19:19,089 Loading halo 5 profile data from /var/folders/s_/syw8wdg56xv93gcyhzl4h3q40000gn/T/tmpy9yix3ks/halo_catalog/profiles/virial_profiles_000005.h5.\n",
      "yt : [INFO     ] 2017-08-10 16:19:19,094 Loading halo 6 profile data from /var/folders/s_/syw8wdg56xv93gcyhzl4h3q40000gn/T/tmpy9yix3ks/halo_catalog/profiles/virial_profiles_000006.h5.\n",
      "yt : [INFO     ] 2017-08-10 16:19:19,098 Loading halo 7 profile data from /var/folders/s_/syw8wdg56xv93gcyhzl4h3q40000gn/T/tmpy9yix3ks/halo_catalog/profiles/virial_profiles_000007.h5.\n",
      "yt : [INFO     ] 2017-08-10 16:19:19,102 Loading halo 9 profile data from /var/folders/s_/syw8wdg56xv93gcyhzl4h3q40000gn/T/tmpy9yix3ks/halo_catalog/profiles/virial_profiles_000009.h5.\n",
      "yt : [INFO     ] 2017-08-10 16:19:19,107 Loading halo 10 profile data from /var/folders/s_/syw8wdg56xv93gcyhzl4h3q40000gn/T/tmpy9yix3ks/halo_catalog/profiles/virial_profiles_000010.h5.\n",
      "yt : [INFO     ] 2017-08-10 16:19:19,111 Loading halo 13 profile data from /var/folders/s_/syw8wdg56xv93gcyhzl4h3q40000gn/T/tmpy9yix3ks/halo_catalog/profiles/virial_profiles_000013.h5.\n",
      "yt : [INFO     ] 2017-08-10 16:19:19,115 Loading halo 18 profile data from /var/folders/s_/syw8wdg56xv93gcyhzl4h3q40000gn/T/tmpy9yix3ks/halo_catalog/profiles/virial_profiles_000018.h5.\n",
      "yt : [INFO     ] 2017-08-10 16:19:19,119 Loading halo 19 profile data from /var/folders/s_/syw8wdg56xv93gcyhzl4h3q40000gn/T/tmpy9yix3ks/halo_catalog/profiles/virial_profiles_000019.h5.\n",
      "yt : [INFO     ] 2017-08-10 16:19:19,124 Loading halo 22 profile data from /var/folders/s_/syw8wdg56xv93gcyhzl4h3q40000gn/T/tmpy9yix3ks/halo_catalog/profiles/virial_profiles_000022.h5.\n",
      "yt : [INFO     ] 2017-08-10 16:19:19,128 Loading halo 23 profile data from /var/folders/s_/syw8wdg56xv93gcyhzl4h3q40000gn/T/tmpy9yix3ks/halo_catalog/profiles/virial_profiles_000023.h5.\n",
      "yt : [INFO     ] 2017-08-10 16:19:19,132 Loading halo 24 profile data from /var/folders/s_/syw8wdg56xv93gcyhzl4h3q40000gn/T/tmpy9yix3ks/halo_catalog/profiles/virial_profiles_000024.h5.\n",
      "yt : [INFO     ] 2017-08-10 16:19:19,136 Loading halo 27 profile data from /var/folders/s_/syw8wdg56xv93gcyhzl4h3q40000gn/T/tmpy9yix3ks/halo_catalog/profiles/virial_profiles_000027.h5.\n",
      "yt : [INFO     ] 2017-08-10 16:19:19,140 Loading halo 29 profile data from /var/folders/s_/syw8wdg56xv93gcyhzl4h3q40000gn/T/tmpy9yix3ks/halo_catalog/profiles/virial_profiles_000029.h5.\n",
      "yt : [INFO     ] 2017-08-10 16:19:19,144 Loading halo 30 profile data from /var/folders/s_/syw8wdg56xv93gcyhzl4h3q40000gn/T/tmpy9yix3ks/halo_catalog/profiles/virial_profiles_000030.h5.\n",
      "yt : [INFO     ] 2017-08-10 16:19:19,148 Loading halo 31 profile data from /var/folders/s_/syw8wdg56xv93gcyhzl4h3q40000gn/T/tmpy9yix3ks/halo_catalog/profiles/virial_profiles_000031.h5.\n",
      "yt : [INFO     ] 2017-08-10 16:19:19,152 Loading halo 32 profile data from /var/folders/s_/syw8wdg56xv93gcyhzl4h3q40000gn/T/tmpy9yix3ks/halo_catalog/profiles/virial_profiles_000032.h5.\n",
      "yt : [INFO     ] 2017-08-10 16:19:19,157 Loading halo 33 profile data from /var/folders/s_/syw8wdg56xv93gcyhzl4h3q40000gn/T/tmpy9yix3ks/halo_catalog/profiles/virial_profiles_000033.h5.\n",
      "yt : [INFO     ] 2017-08-10 16:19:19,162 Loading halo 34 profile data from /var/folders/s_/syw8wdg56xv93gcyhzl4h3q40000gn/T/tmpy9yix3ks/halo_catalog/profiles/virial_profiles_000034.h5.\n",
      "yt : [INFO     ] 2017-08-10 16:19:19,166 Loading halo 37 profile data from /var/folders/s_/syw8wdg56xv93gcyhzl4h3q40000gn/T/tmpy9yix3ks/halo_catalog/profiles/virial_profiles_000037.h5.\n",
      "yt : [INFO     ] 2017-08-10 16:19:19,170 Loading halo 41 profile data from /var/folders/s_/syw8wdg56xv93gcyhzl4h3q40000gn/T/tmpy9yix3ks/halo_catalog/profiles/virial_profiles_000041.h5.\n",
      "yt : [INFO     ] 2017-08-10 16:19:19,174 Loading halo 42 profile data from /var/folders/s_/syw8wdg56xv93gcyhzl4h3q40000gn/T/tmpy9yix3ks/halo_catalog/profiles/virial_profiles_000042.h5.\n",
      "yt : [INFO     ] 2017-08-10 16:19:19,179 Loading halo 43 profile data from /var/folders/s_/syw8wdg56xv93gcyhzl4h3q40000gn/T/tmpy9yix3ks/halo_catalog/profiles/virial_profiles_000043.h5.\n",
      "yt : [INFO     ] 2017-08-10 16:19:19,183 Loading halo 44 profile data from /var/folders/s_/syw8wdg56xv93gcyhzl4h3q40000gn/T/tmpy9yix3ks/halo_catalog/profiles/virial_profiles_000044.h5.\n",
      "yt : [INFO     ] 2017-08-10 16:19:19,187 Loading halo 46 profile data from /var/folders/s_/syw8wdg56xv93gcyhzl4h3q40000gn/T/tmpy9yix3ks/halo_catalog/profiles/virial_profiles_000046.h5.\n",
      "yt : [INFO     ] 2017-08-10 16:19:19,191 Loading halo 52 profile data from /var/folders/s_/syw8wdg56xv93gcyhzl4h3q40000gn/T/tmpy9yix3ks/halo_catalog/profiles/virial_profiles_000052.h5.\n",
      "yt : [INFO     ] 2017-08-10 16:19:19,195 Loading halo 161 profile data from /var/folders/s_/syw8wdg56xv93gcyhzl4h3q40000gn/T/tmpy9yix3ks/halo_catalog/profiles/virial_profiles_000161.h5.\n",
      "yt : [INFO     ] 2017-08-10 16:19:19,199 Loading halo 162 profile data from /var/folders/s_/syw8wdg56xv93gcyhzl4h3q40000gn/T/tmpy9yix3ks/halo_catalog/profiles/virial_profiles_000162.h5.\n",
      "yt : [INFO     ] 2017-08-10 16:19:19,203 Loading halo 165 profile data from /var/folders/s_/syw8wdg56xv93gcyhzl4h3q40000gn/T/tmpy9yix3ks/halo_catalog/profiles/virial_profiles_000165.h5.\n",
      "yt : [INFO     ] 2017-08-10 16:19:19,208 Loading halo 167 profile data from /var/folders/s_/syw8wdg56xv93gcyhzl4h3q40000gn/T/tmpy9yix3ks/halo_catalog/profiles/virial_profiles_000167.h5.\n",
      "yt : [INFO     ] 2017-08-10 16:19:19,212 Loading halo 171 profile data from /var/folders/s_/syw8wdg56xv93gcyhzl4h3q40000gn/T/tmpy9yix3ks/halo_catalog/profiles/virial_profiles_000171.h5.\n",
      "yt : [INFO     ] 2017-08-10 16:19:19,215 Loading halo 173 profile data from /var/folders/s_/syw8wdg56xv93gcyhzl4h3q40000gn/T/tmpy9yix3ks/halo_catalog/profiles/virial_profiles_000173.h5.\n",
      "yt : [INFO     ] 2017-08-10 16:19:19,219 Loading halo 174 profile data from /var/folders/s_/syw8wdg56xv93gcyhzl4h3q40000gn/T/tmpy9yix3ks/halo_catalog/profiles/virial_profiles_000174.h5.\n",
      "yt : [INFO     ] 2017-08-10 16:19:19,224 Loading halo 175 profile data from /var/folders/s_/syw8wdg56xv93gcyhzl4h3q40000gn/T/tmpy9yix3ks/halo_catalog/profiles/virial_profiles_000175.h5.\n",
      "yt : [INFO     ] 2017-08-10 16:19:19,228 Loading halo 176 profile data from /var/folders/s_/syw8wdg56xv93gcyhzl4h3q40000gn/T/tmpy9yix3ks/halo_catalog/profiles/virial_profiles_000176.h5.\n",
      "yt : [INFO     ] 2017-08-10 16:19:19,232 Loading halo 177 profile data from /var/folders/s_/syw8wdg56xv93gcyhzl4h3q40000gn/T/tmpy9yix3ks/halo_catalog/profiles/virial_profiles_000177.h5.\n",
      "yt : [INFO     ] 2017-08-10 16:19:19,236 Loading halo 180 profile data from /var/folders/s_/syw8wdg56xv93gcyhzl4h3q40000gn/T/tmpy9yix3ks/halo_catalog/profiles/virial_profiles_000180.h5.\n",
      "yt : [INFO     ] 2017-08-10 16:19:19,240 Loading halo 183 profile data from /var/folders/s_/syw8wdg56xv93gcyhzl4h3q40000gn/T/tmpy9yix3ks/halo_catalog/profiles/virial_profiles_000183.h5.\n",
      "yt : [INFO     ] 2017-08-10 16:19:19,244 Loading halo 184 profile data from /var/folders/s_/syw8wdg56xv93gcyhzl4h3q40000gn/T/tmpy9yix3ks/halo_catalog/profiles/virial_profiles_000184.h5.\n",
      "yt : [INFO     ] 2017-08-10 16:19:19,247 Loading halo 185 profile data from /var/folders/s_/syw8wdg56xv93gcyhzl4h3q40000gn/T/tmpy9yix3ks/halo_catalog/profiles/virial_profiles_000185.h5.\n",
      "yt : [INFO     ] 2017-08-10 16:19:19,252 Loading halo 193 profile data from /var/folders/s_/syw8wdg56xv93gcyhzl4h3q40000gn/T/tmpy9yix3ks/halo_catalog/profiles/virial_profiles_000193.h5.\n",
      "yt : [INFO     ] 2017-08-10 16:19:19,257 Loading halo 194 profile data from /var/folders/s_/syw8wdg56xv93gcyhzl4h3q40000gn/T/tmpy9yix3ks/halo_catalog/profiles/virial_profiles_000194.h5.\n",
      "yt : [INFO     ] 2017-08-10 16:19:19,260 Loading halo 195 profile data from /var/folders/s_/syw8wdg56xv93gcyhzl4h3q40000gn/T/tmpy9yix3ks/halo_catalog/profiles/virial_profiles_000195.h5.\n",
      "yt : [INFO     ] 2017-08-10 16:19:19,264 Loading halo 196 profile data from /var/folders/s_/syw8wdg56xv93gcyhzl4h3q40000gn/T/tmpy9yix3ks/halo_catalog/profiles/virial_profiles_000196.h5.\n",
      "yt : [INFO     ] 2017-08-10 16:19:19,267 Loading halo 197 profile data from /var/folders/s_/syw8wdg56xv93gcyhzl4h3q40000gn/T/tmpy9yix3ks/halo_catalog/profiles/virial_profiles_000197.h5.\n",
      "yt : [INFO     ] 2017-08-10 16:19:19,273 Loading halo 199 profile data from /var/folders/s_/syw8wdg56xv93gcyhzl4h3q40000gn/T/tmpy9yix3ks/halo_catalog/profiles/virial_profiles_000199.h5.\n"
     ]
    }
   ],
   "source": [
    "hc_reloaded.load()"
   ]
  },
  {
   "cell_type": "markdown",
   "metadata": {},
   "source": [
    "### Plotting Radial Profiles"
   ]
  },
  {
   "cell_type": "markdown",
   "metadata": {},
   "source": [
    "In the future ProfilePlot will be able to properly interpret the loaded profiles of `Halo` and `HaloCatalog` objects, but this functionality is not yet implemented. In the meantime, we show a quick method of viewing a profile for a single halo."
   ]
  },
  {
   "cell_type": "markdown",
   "metadata": {},
   "source": [
    "The individual `Halo` objects contained in the `HaloCatalog` can be accessed through the `halo_list` attribute. This gives us access to the dictionary attached to each halo where we stored the radial profiles."
   ]
  },
  {
   "cell_type": "code",
   "execution_count": 17,
   "metadata": {
    "collapsed": false
   },
   "outputs": [],
   "source": [
    "halo = hc_reloaded.halo_list[0]\n",
    "\n",
    "radius = halo.virial_profiles[u\"('index', 'virial_radius_fraction')\"]\n",
    "temperature = halo.virial_profiles[u\"('gas', 'temperature')\"]\n",
    "\n",
    "# Remove output files, that are no longer needed\n",
    "shutil.rmtree(tmpdir)"
   ]
  },
  {
   "cell_type": "markdown",
   "metadata": {},
   "source": [
    "Here we quickly use matplotlib to create a basic plot of the radial profile of this halo. When `ProfilePlot` is properly configured to accept Halos and HaloCatalogs the full range of yt plotting tools will be accessible."
   ]
  },
  {
   "cell_type": "code",
   "execution_count": 18,
   "metadata": {
    "collapsed": false
   },
   "outputs": [
    {
     "data": {
      "image/png": "[encoded data removed]",
      "text/plain": [
       "<matplotlib.figure.Figure at 0x1189e17f0>"
      ]
     },
     "metadata": {},
     "output_type": "display_data"
    }
   ],
   "source": [
    "%matplotlib inline\n",
    "import matplotlib.pyplot as plt\n",
    "import numpy as np\n",
    "\n",
    "plt.plot(np.array(radius), np.array(temperature))\n",
    "\n",
    "plt.semilogy()\n",
    "plt.xlabel(r'$\\rm{R/R_{vir}}$')\n",
    "plt.ylabel(r'$\\rm{Temperature\\/\\/(K)}$')\n",
    "\n",
    "plt.show()"
   ]
  },
  {
   "cell_type": "code",
   "execution_count": null,
   "metadata": {
    "collapsed": true
   },
   "outputs": [],
   "source": []
  }
 ],
 "metadata": {
  "kernelspec": {
   "display_name": "Python 3",
   "language": "python",
   "name": "python3"
  },
  "language_info": {
   "codemirror_mode": {
    "name": "ipython",
    "version": 3
   },
   "file_extension": ".py",
   "mimetype": "text/x-python",
   "name": "python",
   "nbconvert_exporter": "python",
   "pygments_lexer": "ipython3",
   "version": "3.6.0"
  }
 },
 "nbformat": 4,
 "nbformat_minor": 0
}
