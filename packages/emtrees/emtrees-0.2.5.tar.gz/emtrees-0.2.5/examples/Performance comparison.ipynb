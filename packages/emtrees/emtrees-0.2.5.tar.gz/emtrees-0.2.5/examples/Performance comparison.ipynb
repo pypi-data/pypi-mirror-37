{
 "cells": [
  {
   "cell_type": "code",
   "execution_count": 5,
   "metadata": {},
   "outputs": [],
   "source": [
    "%matplotlib inline\n",
    "import sklearn\n",
    "import pandas\n",
    "import numpy\n",
    "import matplotlib.pyplot as plt\n",
    "\n",
    "import os.path\n",
    "import sys\n",
    "import time\n",
    "\n",
    "sys.path.insert(0, '..')\n",
    "import emtrees"
   ]
  },
  {
   "cell_type": "code",
   "execution_count": 20,
   "metadata": {},
   "outputs": [
    {
     "data": {
      "text/plain": [
       "'got data'"
      ]
     },
     "execution_count": 20,
     "metadata": {},
     "output_type": "execute_result"
    }
   ],
   "source": [
    "from sklearn import model_selection, metrics, datasets\n",
    "\n",
    "seed = 1\n",
    "    \n",
    "def get_data():\n",
    "    test_size = 0.5\n",
    "\n",
    "    X,Y = datasets.make_classification(n_features=6, n_samples=200000, random_state=seed)\n",
    "    \n",
    "    s = model_selection.train_test_split(X, Y, test_size=test_size, random_state=seed)\n",
    "    X_train, X_test, Y_train, Y_test = s\n",
    "    \n",
    "    return X_train, X_test, Y_train, Y_test\n",
    "\n",
    "\n",
    "metric = 'average_precision'\n",
    "\n",
    "parameters = {\n",
    "    'n_estimators': 100,\n",
    "    'min_samples_split': 0.01,\n",
    "}\n",
    "\n",
    "X_train, X_test, Y_train, Y_test = get_data()\n",
    "'got data'"
   ]
  },
  {
   "cell_type": "code",
   "execution_count": null,
   "metadata": {},
   "outputs": [],
   "source": [
    "sk = sklearn.ensemble.RandomForestClassifier(**parameters)\n",
    "sk.fit(X_train, Y_train)\n",
    "em = emtrees.RandomForest(**parameters)\n",
    "em.fit(X_train, Y_train)\n",
    "\n",
    "print('Instances', X_test.shape)\n",
    "tests = { 'sklearn': sk, 'emtrees': em }\n",
    "for name, estimator in tests.items():\n",
    "    \n",
    "    start = time.time()\n",
    "    pred = estimator.predict(X_test)\n",
    "    end = time.time()\n",
    "    \n",
    "    a = metrics.accuracy_score(Y_test, pred)\n",
    "    print('accuracy', a)\n",
    "    assert a > 0.90\n",
    "    t = end - start\n",
    "    print('{}: {} seconds'.format(name, t))\n"
   ]
  },
  {
   "cell_type": "code",
   "execution_count": 3,
   "metadata": {},
   "outputs": [
    {
     "data": {
      "text/plain": [
       "170.06"
      ]
     },
     "execution_count": 3,
     "metadata": {},
     "output_type": "execute_result"
    }
   ],
   "source": [
    "len(em.forest_[0])/len(em.forest_[1])"
   ]
  },
  {
   "cell_type": "code",
   "execution_count": 1,
   "metadata": {},
   "outputs": [],
   "source": [
    "%load_ext line_profiler\n",
    "def pred():\n",
    "    em.predict(X_test)"
   ]
  },
  {
   "cell_type": "code",
   "execution_count": 5,
   "metadata": {},
   "outputs": [
    {
     "name": "stderr",
     "output_type": "stream",
     "text": [
      "Warning: predict() implicitly converting from float64 to int32\n"
     ]
    }
   ],
   "source": [
    "%lprun -f em.predict pred()"
   ]
  },
  {
   "cell_type": "code",
   "execution_count": 3,
   "metadata": {},
   "outputs": [
    {
     "name": "stdout",
     "output_type": "stream",
     "text": [
      "Wrote C code to rnd.h\n"
     ]
    }
   ],
   "source": [
    "code = em.output_c('rnd')\n",
    "filename = 'rnd.h'\n",
    "with open(filename, 'w') as f:\n",
    "    f.write(code)\n",
    "print('Wrote C code to', filename)"
   ]
  },
  {
   "cell_type": "code",
   "execution_count": 21,
   "metadata": {},
   "outputs": [],
   "source": [
    "import emtreesc\n",
    "def cpred():\n",
    "    pred = emtreesc.rnd_predict(X_test * (2**16))\n",
    "    a = metrics.accuracy_score(Y_test, pred)\n",
    "    print('accuracy', a)"
   ]
  },
  {
   "cell_type": "code",
   "execution_count": 22,
   "metadata": {},
   "outputs": [
    {
     "name": "stdout",
     "output_type": "stream",
     "text": [
      "accuracy 0.94656\n"
     ]
    }
   ],
   "source": [
    "%lprun -f cpred cpred()"
   ]
  },
  {
   "cell_type": "code",
   "execution_count": null,
   "metadata": {},
   "outputs": [],
   "source": []
  }
 ],
 "metadata": {
  "kernelspec": {
   "display_name": "Python 3",
   "language": "python",
   "name": "python3"
  },
  "language_info": {
   "codemirror_mode": {
    "name": "ipython",
    "version": 3
   },
   "file_extension": ".py",
   "mimetype": "text/x-python",
   "name": "python",
   "nbconvert_exporter": "python",
   "pygments_lexer": "ipython3",
   "version": "3.6.5"
  }
 },
 "nbformat": 4,
 "nbformat_minor": 2
}
