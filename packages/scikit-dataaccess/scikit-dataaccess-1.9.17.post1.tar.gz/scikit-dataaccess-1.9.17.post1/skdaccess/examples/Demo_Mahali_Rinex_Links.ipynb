{
 "cells": [
  {
   "cell_type": "markdown",
   "metadata": {},
   "source": [
    "The MIT License (MIT)<br>\n",
    "Copyright (c) 2017 Massachusetts Institute of Technology<br>\n",
    "\n",
    "Author: Cody Rude<br>\n",
    "This software has been created in projects supported by the US National<br>\n",
    "Science Foundation and NASA (PI: Pankratius)<br>\n",
    "\n",
    "Permission is hereby granted, free of charge, to any person obtaining a copy<br>\n",
    "of this software and associated documentation files (the \"Software\"), to deal<br>\n",
    "in the Software without restriction, including without limitation the rights<br>\n",
    "to use, copy, modify, merge, publish, distribute, sublicense, and/or sell<br>\n",
    "copies of the Software, and to permit persons to whom the Software is<br>\n",
    "furnished to do so, subject to the following conditions:<br>\n",
    "\n",
    "The above copyright notice and this permission notice shall be included in<br>\n",
    "all copies or substantial portions of the Software.<br>\n",
    "THE SOFTWARE IS PROVIDED \"AS IS\", WITHOUT WARRANTY OF ANY KIND, EXPRESS OR<br>\n",
    "IMPLIED, INCLUDING BUT NOT LIMITED TO THE WARRANTIES OF MERCHANTABILITY,<br>\n",
    "FITNESS FOR A PARTICULAR PURPOSE AND NONINFRINGEMENT. IN NO EVENT SHALL THE<br>\n",
    "AUTHORS OR COPYRIGHT HOLDERS BE LIABLE FOR ANY CLAIM, DAMAGES OR OTHER<br>\n",
    "LIABILITY, WHETHER IN AN ACTION OF CONTRACT, TORT OR OTHERWISE, ARISING FROM,<br>\n",
    "OUT OF OR IN CONNECTION WITH THE SOFTWARE OR THE USE OR OTHER DEALINGS IN<br>\n",
    "THE SOFTWARE.<br>"
   ]
  },
  {
   "cell_type": "code",
   "execution_count": 1,
   "metadata": {
    "collapsed": true
   },
   "outputs": [],
   "source": [
    "%matplotlib notebook\n",
    "import matplotlib.pyplot as plt"
   ]
  },
  {
   "cell_type": "markdown",
   "metadata": {},
   "source": [
    "Rinex files from Mahali Alaska 2015 Experiment<br>\n",
    "MIT led NSF project studying the Earth’s ionosphere with GPS<br>\n",
    "http://mahali.mit.edu/"
   ]
  },
  {
   "cell_type": "code",
   "execution_count": 2,
   "metadata": {
    "collapsed": true
   },
   "outputs": [],
   "source": [
    "from skdaccess.framework.param_class import *\n",
    "from skdaccess.geo.mahali.rinex import DataFetcher as MAHALI_DF"
   ]
  },
  {
   "cell_type": "code",
   "execution_count": 3,
   "metadata": {
    "collapsed": true
   },
   "outputs": [],
   "source": [
    "station_list = AutoList(['mh06','mh08']) # List of stations\n",
    "mahali_df = MAHALI_DF([station_list], start_date='2015-10-10', end_date='2015-10-12', generate_links=True)"
   ]
  },
  {
   "cell_type": "code",
   "execution_count": 4,
   "metadata": {
    "collapsed": true
   },
   "outputs": [],
   "source": [
    "data_wrapper = mahali_df.output() # Get a data wrapper"
   ]
  },
  {
   "cell_type": "markdown",
   "metadata": {},
   "source": [
    "Generate download links for files (only works in jupyter notebooks)"
   ]
  },
  {
   "cell_type": "code",
   "execution_count": 5,
   "metadata": {
    "scrolled": false
   },
   "outputs": [
    {
     "name": "stdout",
     "output_type": "stream",
     "text": [
      "mh06\n",
      "2015-10-10\n",
      "http://apollo.haystack.mit.edu/mahali-data/rinex/nav/2015/283/mh062830.15n\n",
      "http://apollo.haystack.mit.edu/mahali-data/rinex/obs/2015/283/mh062830.15o\n",
      "\n",
      "mh06\n",
      "2015-10-11\n",
      "http://apollo.haystack.mit.edu/mahali-data/rinex/nav/2015/284/mh062840.15n\n",
      "http://apollo.haystack.mit.edu/mahali-data/rinex/obs/2015/284/mh062840.15o\n",
      "\n",
      "mh08\n",
      "2015-10-11\n",
      "http://apollo.haystack.mit.edu/mahali-data/rinex/nav/2015/284/mh082840.15n\n",
      "http://apollo.haystack.mit.edu/mahali-data/rinex/obs/2015/284/mh082840.15o\n",
      "\n",
      "mh06\n",
      "2015-10-12\n",
      "http://apollo.haystack.mit.edu/mahali-data/rinex/nav/2015/285/mh062850.15n\n",
      "http://apollo.haystack.mit.edu/mahali-data/rinex/obs/2015/285/mh062850.15o\n",
      "\n",
      "mh08\n",
      "2015-10-12\n",
      "http://apollo.haystack.mit.edu/mahali-data/rinex/nav/2015/285/mh082850.15n\n",
      "http://apollo.haystack.mit.edu/mahali-data/rinex/obs/2015/285/mh082850.15o\n",
      "\n"
     ]
    }
   ],
   "source": [
    "for site, date, nav, obs  in data_wrapper.getIterator():\n",
    "    print(site, date.strftime('%Y-%m-%d'), nav, obs, sep='\\n',end='\\n\\n')"
   ]
  }
 ],
 "metadata": {
  "kernelspec": {
   "display_name": "Python 3",
   "language": "python",
   "name": "python3"
  },
  "language_info": {
   "codemirror_mode": {
    "name": "ipython",
    "version": 3
   },
   "file_extension": ".py",
   "mimetype": "text/x-python",
   "name": "python",
   "nbconvert_exporter": "python",
   "pygments_lexer": "ipython3",
   "version": "3.6.1"
  }
 },
 "nbformat": 4,
 "nbformat_minor": 2
}
