{
 "cells": [
  {
   "cell_type": "markdown",
   "metadata": {},
   "source": [
    "# Interactive simulation of PN junction"
   ]
  },
  {
   "cell_type": "code",
   "execution_count": 1,
   "metadata": {},
   "outputs": [],
   "source": [
    "import oedes\n",
    "from oedes import models\n",
    "from oedes.ad import where\n",
    "import numpy as np"
   ]
  },
  {
   "cell_type": "markdown",
   "metadata": {},
   "source": [
    "## Specification of device model and physical parameters"
   ]
  },
  {
   "cell_type": "code",
   "execution_count": 2,
   "metadata": {},
   "outputs": [],
   "source": [
    "def doping_profile(mesh, ctx, eq):\n",
    "    return where(mesh.x<mesh.length*0.5,ctx.param(eq, 'Nd'),- ctx.param(eq,'Na'))"
   ]
  },
  {
   "cell_type": "code",
   "execution_count": 3,
   "metadata": {},
   "outputs": [],
   "source": [
    "poisson = models.PoissonEquation()\n",
    "temperature = models.ConstTemperature()\n",
    "electron = models.BandTransport(poisson=poisson, name='electron', z=-1, thermal=temperature)\n",
    "hole = models.BandTransport(poisson=poisson, name='hole', z=1, thermal=temperature)\n",
    "doping = models.FixedCharge(poisson, density=doping_profile)\n",
    "semiconductor = models.Electroneutrality([electron, hole, doping],name='semiconductor')\n",
    "recombination = models.DirectRecombination(semiconductor)\n",
    "anode = models.OhmicContact(poisson, semiconductor, 'electrode0')\n",
    "cathode = models.OhmicContact(poisson, semiconductor, 'electrode1')\n",
    "current = models.RamoShockleyCurrentCalculation([poisson])\n",
    "equations=[ poisson, temperature, electron, hole, \n",
    "            doping, current, semiconductor, \n",
    "            anode, cathode, recombination ]"
   ]
  },
  {
   "cell_type": "code",
   "execution_count": 4,
   "metadata": {},
   "outputs": [],
   "source": [
    "Na=1e24\n",
    "Nd=1e24\n",
    "\n",
    "params={\n",
    "    'T':300,\n",
    "    'epsilon_r':12,\n",
    "    'Na':1e24,\n",
    "    'Nd':1e24,\n",
    "    'hole.mu':1,\n",
    "    'electron.mu':1,\n",
    "    'hole.energy':-1.1,\n",
    "    'electron.energy':0,\n",
    "    'electrode0.voltage':0,\n",
    "    'electrode1.voltage':0,\n",
    "    'hole.N0':1e27,\n",
    "    'electron.N0':1e27,\n",
    "    'beta':1e-9\n",
    "}"
   ]
  },
  {
   "cell_type": "markdown",
   "metadata": {},
   "source": [
    "## Interactive simulation"
   ]
  },
  {
   "cell_type": "code",
   "execution_count": 5,
   "metadata": {},
   "outputs": [],
   "source": [
    "# Create discrete model\n",
    "mesh = oedes.fvm.mesh1d(100e-9)\n",
    "model = oedes.fvm.discretize(equations, mesh)\n",
    "\n",
    "# Precalculate equilibrium solution to save time in interative simulation\n",
    "c_eq=oedes.context(model)\n",
    "c_eq.solve(params)"
   ]
  },
  {
   "cell_type": "code",
   "execution_count": 6,
   "metadata": {
    "scrolled": false
   },
   "outputs": [
    {
     "data": {
      "application/vnd.jupyter.widget-view+json": {
       "model_id": "6776815a058745e3bc02008bc5954aff"
      }
     },
     "metadata": {},
     "output_type": "display_data"
    }
   ],
   "source": [
    "import ipywidgets\n",
    "import pylab as plt\n",
    "\n",
    "fig=plt.figure()\n",
    "ax=plt.subplot()\n",
    "\n",
    "voltage_selection = ipywidgets.FloatSlider(min=-2.,max=2.,step=0.025,description='Voltage')\n",
    "plot_selection = ipywidgets.Select(options=['energy','potential','current density','concentrations'],description='Plot')\n",
    "\n",
    "def simulation_at_voltage(v=voltage_selection,\n",
    "                plot_what=plot_selection):\n",
    "    params['electrode1.voltage']=v\n",
    "    c=oedes.context(model,x=np.asarray(c_eq.x,dtype=np.longdouble))\n",
    "    c.solve(params)\n",
    "    ax.clear()\n",
    "    p=c.mpl(fig,ax)\n",
    "    if plot_what == 'energy':\n",
    "        p.plot(['electron.Eband'],label='$E_c$')\n",
    "        p.plot(['hole.Eband'],label='$E_v$')\n",
    "        p.plot(['electron.Ef'],linestyle='--',label='$E_{Fn}$')\n",
    "        p.plot(['hole.Ef'],linestyle='-.',label='$E_{Fp}$')\n",
    "    elif plot_what == 'potential':\n",
    "        p.plot(['potential'],label='$\\psi$')\n",
    "        p.plot(['electron.phi_f'],label='$\\phi_n$')\n",
    "        p.plot(['hole.phi_f'],label='$\\phi_p$')\n",
    "    elif plot_what == 'current density':\n",
    "        p.plot(['electron.J'],label='$J_n$')\n",
    "        p.plot(['hole.J'],label='$J_p$')\n",
    "    elif plot_what == 'concentrations':\n",
    "        p.plot(['electron.c'])\n",
    "        p.plot(['hole.c'])\n",
    "        p.apply_settings({'yscale':'log'})\n",
    "    p.apply_settings({'xunit':'n','xlabel':'nm'})\n",
    "    ax.legend(loc=0,frameon=False)\n",
    "    display(fig)\n",
    "ipywidgets.interact(simulation_at_voltage);\n"
   ]
  }
 ],
 "metadata": {
  "hide_input": false,
  "kernelspec": {
   "display_name": "Python 3",
   "language": "python",
   "name": "python3"
  },
  "language_info": {
   "codemirror_mode": {
    "name": "ipython",
    "version": 3
   },
   "file_extension": ".py",
   "mimetype": "text/x-python",
   "name": "python",
   "nbconvert_exporter": "python",
   "pygments_lexer": "ipython3",
   "version": "3.6.4"
  },
  "varInspector": {
   "cols": {
    "lenName": 16,
    "lenType": 16,
    "lenVar": 40
   },
   "kernels_config": {
    "python": {
     "delete_cmd_postfix": "",
     "delete_cmd_prefix": "del ",
     "library": "var_list.py",
     "varRefreshCmd": "print(var_dic_list())"
    },
    "r": {
     "delete_cmd_postfix": ") ",
     "delete_cmd_prefix": "rm(",
     "library": "var_list.r",
     "varRefreshCmd": "cat(var_dic_list()) "
    }
   },
   "types_to_exclude": [
    "module",
    "function",
    "builtin_function_or_method",
    "instance",
    "_Feature"
   ],
   "window_display": false
  }
 },
 "nbformat": 4,
 "nbformat_minor": 2
}
