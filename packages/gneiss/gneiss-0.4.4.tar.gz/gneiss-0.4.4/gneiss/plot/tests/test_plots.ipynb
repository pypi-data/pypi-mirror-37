{
 "cells": [
  {
   "cell_type": "code",
   "execution_count": 1,
   "metadata": {},
   "outputs": [],
   "source": [
    "import numpy as np\n",
    "import pandas as pd\n",
    "from gneiss.plot import mixture_plot\n",
    "\n",
    "spectrum = pd.Series(\n",
    "            [0.4579667, 0.39576221, -0.39520894, -0.44957529, 0.0147894,\n",
    "             0.03894491, 0.01431574, 0.02130079, 0.00530691, 0.00163606,\n",
    "             0.10417575, 0.01679624, 0.01408287, 0.08377197, -0.05097175,\n",
    "             0.01467061, 0.0513028, 0.03894267, 0.07682788, -0.02302689,\n",
    "             0.03727277, -0.00167041, 0.06700641, 0.09992187, 0.07400123,\n",
    "             -0.05075235, 0.03855951, 0.03232991, 0.033296, -0.0778636,\n",
    "             -0.02262944, 0.01665713, 0.02012388, -0.08734141, 0.04402584,\n",
    "             0.01885096, 0.01236461, 0.02019468, -0.01489146, -0.10339335,\n",
    "             -0.0526063, -0.03070242, 0.01214559, -0.15510279, -0.04290816,\n",
    "             0.04884383, 0.03615357, -0.00967101, 0.02681241, 0.01047964,\n",
    "             -0.03984972, -0.0016186, 0.02497351, -0.02950191, 0.04832895,\n",
    "             -0.068324, 0.00458738, 0.01106375, 0.04545569, 0.00771012,\n",
    "             0.02453104, -0.01616486, 0.05563585, 0.01309359, 0.01579368,\n",
    "             0.0051668, 0.01042911, -0.07541249, -0.0228381, -0.00250977,\n",
    "             -0.0163356, -0.11578245, 0.00780789, -0.04505144, 0.11493317,\n",
    "             0.06772574, -0.06261561, -0.08941559, -0.02147429, -0.01220844,\n",
    "             -0.04686819, 0.05811476, -0.02413633, 0.14336764, -0.08111341,\n",
    "             0.05834844, -0.09425382, 0.03425244, 0.05037963, -0.0336687,\n",
    "             -0.06270773, 0.07621378, 0.04144562, 0.01764233, 0.05221101,\n",
    "             -0.04337608, 0.06173909, -0.04485265, 0.01397837, 0.04435679,\n",
    "             0.04435679, -0.01826977, -0.01877417, 0.0629691 ])"
   ]
  },
  {
   "cell_type": "code",
   "execution_count": 9,
   "metadata": {},
   "outputs": [
    {
     "data": {
      "text/plain": [
       "<matplotlib.axes._subplots.AxesSubplot at 0x1150c69b0>"
      ]
     },
     "execution_count": 9,
     "metadata": {},
     "output_type": "execute_result"
    }
   ],
   "source": [
    "%matplotlib inline\n",
    "mixture_plot(spectrum)"
   ]
  },
  {
   "cell_type": "code",
   "execution_count": 8,
   "metadata": {},
   "outputs": [],
   "source": [
    "np.savetxt('data/test_mixture_coords.txt', a.lines[0]._xy)"
   ]
  },
  {
   "cell_type": "code",
   "execution_count": null,
   "metadata": {
    "collapsed": true
   },
   "outputs": [],
   "source": []
  }
 ],
 "metadata": {
  "kernelspec": {
   "display_name": "Python 3",
   "language": "python",
   "name": "python3"
  },
  "language_info": {
   "codemirror_mode": {
    "name": "ipython",
    "version": 3
   },
   "file_extension": ".py",
   "mimetype": "text/x-python",
   "name": "python",
   "nbconvert_exporter": "python",
   "pygments_lexer": "ipython3",
   "version": "3.5.3"
  }
 },
 "nbformat": 4,
 "nbformat_minor": 2
}
