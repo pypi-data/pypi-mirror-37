{
 "cells": [
  {
   "cell_type": "code",
   "execution_count": 1,
   "metadata": {},
   "outputs": [],
   "source": [
    "import matplotlib.pyplot as plt\n",
    "\n",
    "%matplotlib inline"
   ]
  },
  {
   "cell_type": "code",
   "execution_count": 2,
   "metadata": {},
   "outputs": [],
   "source": [
    "import numpy as np\n",
    "import pandas as pd\n",
    "from skbio import DistanceMatrix, TreeNode\n",
    "from gneiss.plot._dendrogram import (Dendrogram, UnrootedDendrogram,\n",
    "                                     SquareDendrogram)\n",
    "from scipy.cluster.hierarchy import ward\n",
    "import pandas.util.testing as pdt"
   ]
  },
  {
   "cell_type": "code",
   "execution_count": 5,
   "metadata": {},
   "outputs": [],
   "source": [
    "np.random.seed(0)\n",
    "\n",
    "# generate a random tree\n",
    "x = np.random.rand(10)\n",
    "dm = DistanceMatrix.from_iterable(x, lambda x, y: np.abs(x-y))\n",
    "lm = ward(dm.condensed_form())  # hierarchical clustering\n",
    "ids = np.arange(len(x)).astype(np.str)  # assign ids for each tip\n",
    "tree = TreeNode.from_linkage_matrix(lm, ids) # create the tree"
   ]
  },
  {
   "cell_type": "code",
   "execution_count": 6,
   "metadata": {},
   "outputs": [
    {
     "name": "stdout",
     "output_type": "stream",
     "text": [
      "                    /-7\n",
      "          /--------|\n",
      "         |          \\-8\n",
      "         |\n",
      "         |                    /-9\n",
      "---------|          /--------|\n",
      "         |         |         |          /-4\n",
      "         |         |          \\--------|\n",
      "         |         |                    \\-6\n",
      "          \\--------|\n",
      "                   |                    /-0\n",
      "                   |          /--------|\n",
      "                   |         |          \\-3\n",
      "                    \\--------|\n",
      "                             |          /-1\n",
      "                              \\--------|\n",
      "                                       |          /-2\n",
      "                                        \\--------|\n",
      "                                                  \\-5\n"
     ]
    }
   ],
   "source": [
    "print(tree.ascii_art())"
   ]
  },
  {
   "cell_type": "code",
   "execution_count": 9,
   "metadata": {},
   "outputs": [],
   "source": [
    "# initialize tree with branch length and named internal nodes\n",
    "for i, n in enumerate(tree.postorder(include_self=True)):\n",
    "    n.length = 1\n",
    "    if not n.is_tip():\n",
    "        n.name = \"y%d\" % i"
   ]
  },
  {
   "cell_type": "code",
   "execution_count": 10,
   "metadata": {},
   "outputs": [
    {
     "name": "stdout",
     "output_type": "stream",
     "text": [
      "                    /-7\n",
      "          /y2------|\n",
      "         |          \\-8\n",
      "         |\n",
      "         |                    /-9\n",
      "-y18-----|          /y7------|\n",
      "         |         |         |          /-4\n",
      "         |         |          \\y6------|\n",
      "         |         |                    \\-6\n",
      "          \\y17-----|\n",
      "                   |                    /-0\n",
      "                   |          /y10-----|\n",
      "                   |         |          \\-3\n",
      "                    \\y16-----|\n",
      "                             |          /-1\n",
      "                              \\y15-----|\n",
      "                                       |          /-2\n",
      "                                        \\y14-----|\n",
      "                                                  \\-5\n"
     ]
    }
   ],
   "source": [
    "print(tree.ascii_art())"
   ]
  },
  {
   "cell_type": "code",
   "execution_count": 11,
   "metadata": {},
   "outputs": [],
   "source": [
    "t = UnrootedDendrogram.from_tree(tree)"
   ]
  },
  {
   "cell_type": "code",
   "execution_count": 12,
   "metadata": {},
   "outputs": [],
   "source": [
    "res = t.coords(500, 500)"
   ]
  },
  {
   "cell_type": "code",
   "execution_count": 14,
   "metadata": {},
   "outputs": [
    {
     "data": {
      "text/plain": [
       "<matplotlib.collections.PathCollection at 0x1a0eccba58>"
      ]
     },
     "execution_count": 14,
     "metadata": {},
     "output_type": "execute_result"
    },
    {
     "data": {
      "image/png": "[encoded data removed]",
      "text/plain": [
       "<matplotlib.figure.Figure at 0x1a0ec04198>"
      ]
     },
     "metadata": {},
     "output_type": "display_data"
    }
   ],
   "source": [
    "plt.scatter(res.x, res.y)"
   ]
  },
  {
   "cell_type": "code",
   "execution_count": 16,
   "metadata": {},
   "outputs": [],
   "source": [
    "edges = res[['child0', 'child1']]\n",
    "edges = edges.dropna(subset=['child0', 'child1'])\n",
    "edges = edges.unstack()\n",
    "edges = pd.DataFrame({'src_node': edges.index.get_level_values(1),\n",
    "                      'dest_node': edges.values})"
   ]
  },
  {
   "cell_type": "code",
   "execution_count": 31,
   "metadata": {},
   "outputs": [
    {
     "data": {
      "text/html": [
       "<div>\n",
       "<style>\n",
       "    .dataframe thead tr:only-child th {\n",
       "        text-align: right;\n",
       "    }\n",
       "\n",
       "    .dataframe thead th {\n",
       "        text-align: left;\n",
       "    }\n",
       "\n",
       "    .dataframe tbody tr th {\n",
       "        vertical-align: top;\n",
       "    }\n",
       "</style>\n",
       "<table border=\"1\" class=\"dataframe\">\n",
       "  <thead>\n",
       "    <tr style=\"text-align: right;\">\n",
       "      <th></th>\n",
       "      <th>child0</th>\n",
       "      <th>child1</th>\n",
       "    </tr>\n",
       "  </thead>\n",
       "  <tbody>\n",
       "    <tr>\n",
       "      <th>y10</th>\n",
       "      <td>0</td>\n",
       "      <td>3</td>\n",
       "    </tr>\n",
       "    <tr>\n",
       "      <th>y14</th>\n",
       "      <td>2</td>\n",
       "      <td>5</td>\n",
       "    </tr>\n",
       "    <tr>\n",
       "      <th>y15</th>\n",
       "      <td>1</td>\n",
       "      <td>y14</td>\n",
       "    </tr>\n",
       "    <tr>\n",
       "      <th>y16</th>\n",
       "      <td>y10</td>\n",
       "      <td>y15</td>\n",
       "    </tr>\n",
       "    <tr>\n",
       "      <th>y17</th>\n",
       "      <td>y7</td>\n",
       "      <td>y16</td>\n",
       "    </tr>\n",
       "    <tr>\n",
       "      <th>y18</th>\n",
       "      <td>y2</td>\n",
       "      <td>y17</td>\n",
       "    </tr>\n",
       "    <tr>\n",
       "      <th>y2</th>\n",
       "      <td>7</td>\n",
       "      <td>8</td>\n",
       "    </tr>\n",
       "    <tr>\n",
       "      <th>y6</th>\n",
       "      <td>4</td>\n",
       "      <td>6</td>\n",
       "    </tr>\n",
       "    <tr>\n",
       "      <th>y7</th>\n",
       "      <td>9</td>\n",
       "      <td>y6</td>\n",
       "    </tr>\n",
       "  </tbody>\n",
       "</table>\n",
       "</div>"
      ],
      "text/plain": [
       "    child0 child1\n",
       "y10      0      3\n",
       "y14      2      5\n",
       "y15      1    y14\n",
       "y16    y10    y15\n",
       "y17     y7    y16\n",
       "y18     y2    y17\n",
       "y2       7      8\n",
       "y6       4      6\n",
       "y7       9     y6"
      ]
     },
     "execution_count": 31,
     "metadata": {},
     "output_type": "execute_result"
    }
   ],
   "source": [
    "res[['child0', 'child1']].dropna()"
   ]
  },
  {
   "cell_type": "code",
   "execution_count": 32,
   "metadata": {},
   "outputs": [
    {
     "data": {
      "text/plain": [
       "child0  y10      0\n",
       "        y14      2\n",
       "        y15      1\n",
       "        y16    y10\n",
       "        y17     y7\n",
       "        y18     y2\n",
       "        y2       7\n",
       "        y6       4\n",
       "        y7       9\n",
       "child1  y10      3\n",
       "        y14      5\n",
       "        y15    y14\n",
       "        y16    y15\n",
       "        y17    y16\n",
       "        y18    y17\n",
       "        y2       8\n",
       "        y6       6\n",
       "        y7      y6\n",
       "dtype: object"
      ]
     },
     "execution_count": 32,
     "metadata": {},
     "output_type": "execute_result"
    }
   ],
   "source": [
    "res[['child0', 'child1']].dropna().unstack()"
   ]
  },
  {
   "cell_type": "code",
   "execution_count": 47,
   "metadata": {},
   "outputs": [],
   "source": [
    "edge_list = []\n",
    "for i in edges.index:\n",
    "    src = edges.loc[i, 'src_node']\n",
    "    dest = edges.loc[i, 'dest_node']\n",
    "    sx, sy = res.loc[src].x, res.loc[src].y\n",
    "    dx, dy = res.loc[dest].x, res.loc[dest].y\n",
    "\n",
    "    edge_list.append(\n",
    "        {'x0': sx, 'y0': sy, 'x1': dx, 'y1': dy}\n",
    "    )\n",
    "    #edge_list.append(\n",
    "    #    {'x0': sx, 'y0': dy, 'x1': dx, 'y1': dy}\n",
    "    #)\n",
    "edge_list = pd.DataFrame(edge_list)"
   ]
  },
  {
   "cell_type": "code",
   "execution_count": 48,
   "metadata": {},
   "outputs": [
    {
     "data": {
      "text/html": [
       "<div>\n",
       "<style>\n",
       "    .dataframe thead tr:only-child th {\n",
       "        text-align: right;\n",
       "    }\n",
       "\n",
       "    .dataframe thead th {\n",
       "        text-align: left;\n",
       "    }\n",
       "\n",
       "    .dataframe tbody tr th {\n",
       "        vertical-align: top;\n",
       "    }\n",
       "</style>\n",
       "<table border=\"1\" class=\"dataframe\">\n",
       "  <thead>\n",
       "    <tr style=\"text-align: right;\">\n",
       "      <th></th>\n",
       "      <th>x0</th>\n",
       "      <th>x1</th>\n",
       "      <th>y0</th>\n",
       "      <th>y1</th>\n",
       "    </tr>\n",
       "  </thead>\n",
       "  <tbody>\n",
       "    <tr>\n",
       "      <th>0</th>\n",
       "      <td>366.836798</td>\n",
       "      <td>404.097405</td>\n",
       "      <td>313.290659</td>\n",
       "      <td>396.979353</td>\n",
       "    </tr>\n",
       "    <tr>\n",
       "      <th>1</th>\n",
       "      <td>419.421483</td>\n",
       "      <td>487.500000</td>\n",
       "      <td>104.578527</td>\n",
       "      <td>43.280355</td>\n",
       "    </tr>\n",
       "    <tr>\n",
       "      <th>2</th>\n",
       "      <td>373.617143</td>\n",
       "      <td>464.723981</td>\n",
       "      <td>183.913971</td>\n",
       "      <td>174.338256</td>\n",
       "    </tr>\n",
       "    <tr>\n",
       "      <th>3</th>\n",
       "      <td>305.538626</td>\n",
       "      <td>366.836798</td>\n",
       "      <td>245.212143</td>\n",
       "      <td>313.290659</td>\n",
       "    </tr>\n",
       "    <tr>\n",
       "      <th>4</th>\n",
       "      <td>214.431788</td>\n",
       "      <td>146.353271</td>\n",
       "      <td>254.787857</td>\n",
       "      <td>316.086029</td>\n",
       "    </tr>\n",
       "  </tbody>\n",
       "</table>\n",
       "</div>"
      ],
      "text/plain": [
       "           x0          x1          y0          y1\n",
       "0  366.836798  404.097405  313.290659  396.979353\n",
       "1  419.421483  487.500000  104.578527   43.280355\n",
       "2  373.617143  464.723981  183.913971  174.338256\n",
       "3  305.538626  366.836798  245.212143  313.290659\n",
       "4  214.431788  146.353271  254.787857  316.086029"
      ]
     },
     "execution_count": 48,
     "metadata": {},
     "output_type": "execute_result"
    }
   ],
   "source": [
    "edge_list.head()"
   ]
  },
  {
   "cell_type": "code",
   "execution_count": 57,
   "metadata": {},
   "outputs": [
    {
     "data": {
      "image/png": "[encoded data removed]",
      "text/plain": [
       "<matplotlib.figure.Figure at 0x1a0ed6c358>"
      ]
     },
     "metadata": {},
     "output_type": "display_data"
    }
   ],
   "source": [
    "offset = 0.5\n",
    "for i in range(len(edge_list.index)):\n",
    "    row = edge_list.iloc[i]\n",
    "    plt.plot([row.x0, row.x1],\n",
    "             [row.y0, row.y1], '-g')\n",
    "    plt.scatter([row.x0], [row.y0], c='b', s=50)\n",
    "    plt.scatter([row.x1], [row.y1], c='b', s=50)"
   ]
  },
  {
   "cell_type": "markdown",
   "metadata": {},
   "source": [
    "Todo\n",
    "\n",
    "1) Make y10 size 100 and red\n",
    "\n",
    "2) Make edges (y14, 2) and (y14, 5) orange with edge width 5\n"
   ]
  },
  {
   "cell_type": "code",
   "execution_count": null,
   "metadata": {},
   "outputs": [],
   "source": [
    "def plot_this(tree, edge_attributes, node_attributes):\n",
    "    \"\"\" Function to actually make the visualization\n",
    "    \n",
    "    Parameters\n",
    "    ----------\n",
    "    tree : skbio.TreeNode\n",
    "        Tree to visualize\n",
    "    node_attributes : pd.DataFrame\n",
    "        Attributes to color for nodes\n",
    "    edge_attributes : pd.DataFrame\n",
    "        Attributes to color for edges\n",
    "        \n",
    "    TODO\n",
    "    ----\n",
    "    defaults : what if the node / edge attribute is not specified\n",
    "    \"\"\""
   ]
  },
  {
   "cell_type": "code",
   "execution_count": 58,
   "metadata": {},
   "outputs": [
    {
     "data": {
      "text/html": [
       "<div>\n",
       "<style>\n",
       "    .dataframe thead tr:only-child th {\n",
       "        text-align: right;\n",
       "    }\n",
       "\n",
       "    .dataframe thead th {\n",
       "        text-align: left;\n",
       "    }\n",
       "\n",
       "    .dataframe tbody tr th {\n",
       "        vertical-align: top;\n",
       "    }\n",
       "</style>\n",
       "<table border=\"1\" class=\"dataframe\">\n",
       "  <thead>\n",
       "    <tr style=\"text-align: right;\">\n",
       "      <th></th>\n",
       "      <th>x</th>\n",
       "      <th>y</th>\n",
       "      <th>child0</th>\n",
       "      <th>child1</th>\n",
       "      <th>is_tip</th>\n",
       "    </tr>\n",
       "  </thead>\n",
       "  <tbody>\n",
       "    <tr>\n",
       "      <th>0</th>\n",
       "      <td>404.097</td>\n",
       "      <td>396.979</td>\n",
       "      <td>NaN</td>\n",
       "      <td>NaN</td>\n",
       "      <td>True</td>\n",
       "    </tr>\n",
       "    <tr>\n",
       "      <th>1</th>\n",
       "      <td>464.724</td>\n",
       "      <td>174.338</td>\n",
       "      <td>NaN</td>\n",
       "      <td>NaN</td>\n",
       "      <td>True</td>\n",
       "    </tr>\n",
       "    <tr>\n",
       "      <th>2</th>\n",
       "      <td>487.5</td>\n",
       "      <td>43.2804</td>\n",
       "      <td>NaN</td>\n",
       "      <td>NaN</td>\n",
       "      <td>True</td>\n",
       "    </tr>\n",
       "    <tr>\n",
       "      <th>3</th>\n",
       "      <td>446.172</td>\n",
       "      <td>359.095</td>\n",
       "      <td>NaN</td>\n",
       "      <td>NaN</td>\n",
       "      <td>True</td>\n",
       "    </tr>\n",
       "    <tr>\n",
       "      <th>4</th>\n",
       "      <td>32.4704</td>\n",
       "      <td>456.72</td>\n",
       "      <td>NaN</td>\n",
       "      <td>NaN</td>\n",
       "      <td>True</td>\n",
       "    </tr>\n",
       "    <tr>\n",
       "      <th>5</th>\n",
       "      <td>438.468</td>\n",
       "      <td>14.9717</td>\n",
       "      <td>NaN</td>\n",
       "      <td>NaN</td>\n",
       "      <td>True</td>\n",
       "    </tr>\n",
       "    <tr>\n",
       "      <th>6</th>\n",
       "      <td>81.5024</td>\n",
       "      <td>485.028</td>\n",
       "      <td>NaN</td>\n",
       "      <td>NaN</td>\n",
       "      <td>True</td>\n",
       "    </tr>\n",
       "    <tr>\n",
       "      <th>7</th>\n",
       "      <td>54.5748</td>\n",
       "      <td>34.9421</td>\n",
       "      <td>NaN</td>\n",
       "      <td>NaN</td>\n",
       "      <td>True</td>\n",
       "    </tr>\n",
       "    <tr>\n",
       "      <th>8</th>\n",
       "      <td>12.5</td>\n",
       "      <td>72.8265</td>\n",
       "      <td>NaN</td>\n",
       "      <td>NaN</td>\n",
       "      <td>True</td>\n",
       "    </tr>\n",
       "    <tr>\n",
       "      <th>9</th>\n",
       "      <td>55.2464</td>\n",
       "      <td>325.662</td>\n",
       "      <td>NaN</td>\n",
       "      <td>NaN</td>\n",
       "      <td>True</td>\n",
       "    </tr>\n",
       "    <tr>\n",
       "      <th>y10</th>\n",
       "      <td>366.837</td>\n",
       "      <td>313.291</td>\n",
       "      <td>0</td>\n",
       "      <td>3</td>\n",
       "      <td>False</td>\n",
       "    </tr>\n",
       "    <tr>\n",
       "      <th>y14</th>\n",
       "      <td>419.421</td>\n",
       "      <td>104.579</td>\n",
       "      <td>2</td>\n",
       "      <td>5</td>\n",
       "      <td>False</td>\n",
       "    </tr>\n",
       "    <tr>\n",
       "      <th>y15</th>\n",
       "      <td>373.617</td>\n",
       "      <td>183.914</td>\n",
       "      <td>1</td>\n",
       "      <td>y14</td>\n",
       "      <td>False</td>\n",
       "    </tr>\n",
       "    <tr>\n",
       "      <th>y16</th>\n",
       "      <td>305.539</td>\n",
       "      <td>245.212</td>\n",
       "      <td>y10</td>\n",
       "      <td>y15</td>\n",
       "      <td>False</td>\n",
       "    </tr>\n",
       "    <tr>\n",
       "      <th>y17</th>\n",
       "      <td>214.432</td>\n",
       "      <td>254.788</td>\n",
       "      <td>y7</td>\n",
       "      <td>y16</td>\n",
       "      <td>False</td>\n",
       "    </tr>\n",
       "    <tr>\n",
       "      <th>y18</th>\n",
       "      <td>153.134</td>\n",
       "      <td>186.709</td>\n",
       "      <td>y2</td>\n",
       "      <td>y17</td>\n",
       "      <td>False</td>\n",
       "    </tr>\n",
       "    <tr>\n",
       "      <th>y2</th>\n",
       "      <td>91.8354</td>\n",
       "      <td>118.631</td>\n",
       "      <td>7</td>\n",
       "      <td>8</td>\n",
       "      <td>False</td>\n",
       "    </tr>\n",
       "    <tr>\n",
       "      <th>y6</th>\n",
       "      <td>100.549</td>\n",
       "      <td>395.421</td>\n",
       "      <td>4</td>\n",
       "      <td>6</td>\n",
       "      <td>False</td>\n",
       "    </tr>\n",
       "    <tr>\n",
       "      <th>y7</th>\n",
       "      <td>146.353</td>\n",
       "      <td>316.086</td>\n",
       "      <td>9</td>\n",
       "      <td>y6</td>\n",
       "      <td>False</td>\n",
       "    </tr>\n",
       "  </tbody>\n",
       "</table>\n",
       "</div>"
      ],
      "text/plain": [
       "           x        y child0 child1 is_tip\n",
       "0    404.097  396.979    NaN    NaN   True\n",
       "1    464.724  174.338    NaN    NaN   True\n",
       "2      487.5  43.2804    NaN    NaN   True\n",
       "3    446.172  359.095    NaN    NaN   True\n",
       "4    32.4704   456.72    NaN    NaN   True\n",
       "5    438.468  14.9717    NaN    NaN   True\n",
       "6    81.5024  485.028    NaN    NaN   True\n",
       "7    54.5748  34.9421    NaN    NaN   True\n",
       "8       12.5  72.8265    NaN    NaN   True\n",
       "9    55.2464  325.662    NaN    NaN   True\n",
       "y10  366.837  313.291      0      3  False\n",
       "y14  419.421  104.579      2      5  False\n",
       "y15  373.617  183.914      1    y14  False\n",
       "y16  305.539  245.212    y10    y15  False\n",
       "y17  214.432  254.788     y7    y16  False\n",
       "y18  153.134  186.709     y2    y17  False\n",
       "y2   91.8354  118.631      7      8  False\n",
       "y6   100.549  395.421      4      6  False\n",
       "y7   146.353  316.086      9     y6  False"
      ]
     },
     "execution_count": 58,
     "metadata": {},
     "output_type": "execute_result"
    }
   ],
   "source": [
    "res"
   ]
  },
  {
   "cell_type": "code",
   "execution_count": 46,
   "metadata": {},
   "outputs": [
    {
     "data": {
      "text/plain": [
       "x0    146.353271\n",
       "x1    100.548931\n",
       "y0    395.421473\n",
       "y1    395.421473\n",
       "Name: 35, dtype: float64"
      ]
     },
     "execution_count": 46,
     "metadata": {},
     "output_type": "execute_result"
    }
   ],
   "source": [
    "row"
   ]
  },
  {
   "cell_type": "code",
   "execution_count": 50,
   "metadata": {},
   "outputs": [],
   "source": [
    "for i, n in enumerate(t.postorder(include_self=True)):\n",
    "    if not n.is_tip():\n",
    "        n.name = \"y%d\" % i\n",
    "        n.color = '#FF999F'\n",
    "        n.edge_color = '#FF0000'\n",
    "        n.node_size = 10\n",
    "    else:\n",
    "        n.color = '#1C9099'\n",
    "        n.edge_color = '#00FF00'\n",
    "        n.node_size = 10\n",
    "        n.length = np.random.rand()*3\n",
    "        n.edge_width = 2"
   ]
  },
  {
   "cell_type": "code",
   "execution_count": 53,
   "metadata": {},
   "outputs": [
    {
     "name": "stdout",
     "output_type": "stream",
     "text": [
      "          /-9\n",
      "-y7------|\n",
      "         |          /-4\n",
      "          \\y6------|\n",
      "                    \\-6\n"
     ]
    }
   ],
   "source": [
    "print(tree.find('y7').ascii_art())"
   ]
  },
  {
   "cell_type": "code",
   "execution_count": null,
   "metadata": {},
   "outputs": [],
   "source": []
  }
 ],
 "metadata": {
  "kernelspec": {
   "display_name": "Python 3",
   "language": "python",
   "name": "python3"
  },
  "language_info": {
   "codemirror_mode": {
    "name": "ipython",
    "version": 3
   },
   "file_extension": ".py",
   "mimetype": "text/x-python",
   "name": "python",
   "nbconvert_exporter": "python",
   "pygments_lexer": "ipython3",
   "version": "3.5.4"
  }
 },
 "nbformat": 4,
 "nbformat_minor": 2
}
