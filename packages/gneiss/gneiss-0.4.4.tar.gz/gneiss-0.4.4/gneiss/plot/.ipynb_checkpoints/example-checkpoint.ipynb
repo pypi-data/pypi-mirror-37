{
 "cells": [
  {
   "cell_type": "code",
   "execution_count": 1,
   "metadata": {
    "collapsed": true
   },
   "outputs": [],
   "source": [
    "import pandas as pd\n",
    "from gneiss.plot._decompose import proportion_plot\n",
    "%matplotlib inline"
   ]
  },
  {
   "cell_type": "code",
   "execution_count": 2,
   "metadata": {
    "collapsed": true
   },
   "outputs": [],
   "source": [
    "table = pd.DataFrame({\n",
    "    'A': [1, 1.2, 1.1, 2.1, 2.2, 2],\n",
    "    'B': [9.9, 10, 10.1, 2, 2.4, 2.1],\n",
    "    'C': [5, 3, 1, 2, 2, 3],\n",
    "    'D': [5, 5, 5, 5, 5, 5],\n",
    "}, index=['S1', 'S2', 'S3', 'S4', 'S5', 'S6'])\n",
    "\n",
    "feature_metadata = pd.DataFrame({\n",
    "    'A': ['k__foo', 'p__bar', 'c__', 'o__', 'f__', 'g__', 's__'],\n",
    "    'B': ['k__foo', 'p__bar', 'c__', 'o__', 'f__', 'g__', 's__'],\n",
    "    'C': ['k__poo', 'p__tar', 'c__', 'o__', 'f__', 'g__', 's__'],\n",
    "    'D': ['k__poo', 'p__far', 'c__', 'o__', 'f__', 'g__', 's__']\n",
    "}, index=['kingdom', 'phylum', 'class', 'order', 'family', 'genus', 'species']).T\n",
    "\n",
    "metadata = pd.DataFrame({'groups': ['X', 'X', 'X', 'Y', 'Y', 'Y'],\n",
    "                         'dry': [1, 2, 3, 4, 5, 6]}, \n",
    "                        index=['S1', 'S2', 'S3', 'S4', 'S5', 'S6'])"
   ]
  },
  {
   "cell_type": "code",
   "execution_count": 3,
   "metadata": {},
   "outputs": [
    {
     "data": {
      "image/png": "[encoded data removed]",
      "text/plain": [
       "<matplotlib.figure.Figure at 0x1084219b0>"
      ]
     },
     "metadata": {},
     "output_type": "display_data"
    }
   ],
   "source": [
    "num_features = ['A', 'B']\n",
    "denom_features = ['C', 'D']\n",
    "ax1, ax2 = proportion_plot(table, metadata, 'groups', 'X', 'Y', num_features, denom_features, \n",
    "                           feature_metadata, label_col='phylum')"
   ]
  },
  {
   "cell_type": "code",
   "execution_count": 4,
   "metadata": {},
   "outputs": [
    {
     "data": {
      "text/plain": [
       "array([[ 0.16528926,  0.        ],\n",
       "       [ 0.18965517,  0.        ],\n",
       "       [ 0.17355372,  1.        ],\n",
       "       [ 0.20689655,  1.        ],\n",
       "       [ 0.17241379,  2.        ],\n",
       "       [ 0.24793388,  2.        ],\n",
       "       [ 0.41322314,  3.        ],\n",
       "       [ 0.45045045,  3.        ]])"
      ]
     },
     "execution_count": 4,
     "metadata": {},
     "output_type": "execute_result"
    }
   ],
   "source": [
    "import numpy as np\n",
    "np.vstack([l.get_xydata() for l in ax1.get_lines()])"
   ]
  },
  {
   "cell_type": "code",
   "execution_count": 5,
   "metadata": {},
   "outputs": [
    {
     "data": {
      "text/plain": [
       "array([[ 0.04784689,  0.        ],\n",
       "       [ 0.06395349,  0.        ],\n",
       "       [ 0.47368421,  1.        ],\n",
       "       [ 0.5872093 ,  1.        ],\n",
       "       [ 0.05813953,  2.        ],\n",
       "       [ 0.23923445,  2.        ],\n",
       "       [ 0.23923445,  3.        ],\n",
       "       [ 0.29069767,  3.        ]])"
      ]
     },
     "execution_count": 5,
     "metadata": {},
     "output_type": "execute_result"
    }
   ],
   "source": [
    "import numpy as np\n",
    "np.vstack([l.get_xydata() for l in ax2.get_lines()])"
   ]
  },
  {
   "cell_type": "code",
   "execution_count": 6,
   "metadata": {},
   "outputs": [
    {
     "data": {
      "image/png": "[encoded data removed]",
      "text/plain": [
       "<matplotlib.figure.Figure at 0x1122cef60>"
      ]
     },
     "metadata": {},
     "output_type": "display_data"
    }
   ],
   "source": [
    "num_features = ['A', 'B']\n",
    "denom_features = ['D', 'C']\n",
    "ax1, ax2 = proportion_plot(table, metadata, 'groups', 'X', 'Y', num_features, denom_features, \n",
    "                           feature_metadata, label_col='phylum')"
   ]
  },
  {
   "cell_type": "code",
   "execution_count": 7,
   "metadata": {},
   "outputs": [
    {
     "data": {
      "text/plain": [
       "array([[ 0.16528926,  0.        ],\n",
       "       [ 0.18965517,  0.        ],\n",
       "       [ 0.17355372,  1.        ],\n",
       "       [ 0.20689655,  1.        ],\n",
       "       [ 0.41322314,  2.        ],\n",
       "       [ 0.45045045,  2.        ],\n",
       "       [ 0.17241379,  3.        ],\n",
       "       [ 0.24793388,  3.        ]])"
      ]
     },
     "execution_count": 7,
     "metadata": {},
     "output_type": "execute_result"
    }
   ],
   "source": [
    "import numpy as np\n",
    "np.vstack([l.get_xydata() for l in ax1.get_lines()])"
   ]
  },
  {
   "cell_type": "code",
   "execution_count": 8,
   "metadata": {},
   "outputs": [
    {
     "data": {
      "text/plain": [
       "array([[ 0.04784689,  0.        ],\n",
       "       [ 0.06395349,  0.        ],\n",
       "       [ 0.47368421,  1.        ],\n",
       "       [ 0.5872093 ,  1.        ],\n",
       "       [ 0.23923445,  2.        ],\n",
       "       [ 0.29069767,  2.        ],\n",
       "       [ 0.05813953,  3.        ],\n",
       "       [ 0.23923445,  3.        ]])"
      ]
     },
     "execution_count": 8,
     "metadata": {},
     "output_type": "execute_result"
    }
   ],
   "source": [
    "import numpy as np\n",
    "np.vstack([l.get_xydata() for l in ax2.get_lines()])"
   ]
  },
  {
   "cell_type": "code",
   "execution_count": 24,
   "metadata": {},
   "outputs": [
    {
     "data": {
      "image/png": "[encoded data removed]",
      "text/plain": [
       "<matplotlib.figure.Figure at 0x115e97eb8>"
      ]
     },
     "metadata": {},
     "output_type": "display_data"
    }
   ],
   "source": [
    "fig, axes = plt.subplots(1, 2)\n",
    "\n",
    "ax1, ax2 = proportion_plot(table, metadata,\n",
    "                           'groups', 'X', 'Y',\n",
    "                           num_features, denom_features,\n",
    "                           feature_metadata,\n",
    "                           label_col='phylum', axes=axes)"
   ]
  },
  {
   "cell_type": "code",
   "execution_count": 25,
   "metadata": {},
   "outputs": [
    {
     "data": {
      "text/plain": [
       "array([[ 0.16528926,  0.        ],\n",
       "       [ 0.18965517,  0.        ],\n",
       "       [ 0.17355372,  1.        ],\n",
       "       [ 0.20689655,  1.        ],\n",
       "       [ 0.41322314,  2.        ],\n",
       "       [ 0.45045045,  2.        ],\n",
       "       [ 0.17241379,  3.        ],\n",
       "       [ 0.24793388,  3.        ]])"
      ]
     },
     "execution_count": 25,
     "metadata": {},
     "output_type": "execute_result"
    }
   ],
   "source": [
    "import numpy as np\n",
    "np.vstack([l.get_xydata() for l in ax1.get_lines()])"
   ]
  },
  {
   "cell_type": "code",
   "execution_count": 26,
   "metadata": {},
   "outputs": [
    {
     "data": {
      "text/plain": [
       "array([[ 0.04784689,  0.        ],\n",
       "       [ 0.06395349,  0.        ],\n",
       "       [ 0.47368421,  1.        ],\n",
       "       [ 0.5872093 ,  1.        ],\n",
       "       [ 0.23923445,  2.        ],\n",
       "       [ 0.29069767,  2.        ],\n",
       "       [ 0.05813953,  3.        ],\n",
       "       [ 0.23923445,  3.        ]])"
      ]
     },
     "execution_count": 26,
     "metadata": {},
     "output_type": "execute_result"
    }
   ],
   "source": [
    "import numpy as np\n",
    "np.vstack([l.get_xydata() for l in ax2.get_lines()])"
   ]
  },
  {
   "cell_type": "code",
   "execution_count": null,
   "metadata": {
    "collapsed": true
   },
   "outputs": [],
   "source": [
    "fig, axes = plt.subplots(1, 2)\n",
    "\n",
    "ax1, ax2 = proportion_plot(table, metadata,\n",
    "                           'groups', 'X', 'Y',\n",
    "                           num_features, denom_features,\n",
    "                           axes=axes)"
   ]
  }
 ],
 "metadata": {
  "kernelspec": {
   "display_name": "Python 3",
   "language": "python",
   "name": "python3"
  },
  "language_info": {
   "codemirror_mode": {
    "name": "ipython",
    "version": 3
   },
   "file_extension": ".py",
   "mimetype": "text/x-python",
   "name": "python",
   "nbconvert_exporter": "python",
   "pygments_lexer": "ipython3",
   "version": "3.5.3"
  }
 },
 "nbformat": 4,
 "nbformat_minor": 2
}
